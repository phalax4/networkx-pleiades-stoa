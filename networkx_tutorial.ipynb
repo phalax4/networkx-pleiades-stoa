{
 "cells": [
  {
   "cell_type": "code",
   "execution_count": 1,
   "metadata": {},
   "outputs": [],
   "source": [
    "import json\n",
    "import os\n",
    "with open('./pleiades-places.json','r', encoding=\"utf8\") as json_file, open('./pleiades_jsonline', 'a') as f1:\n",
    "    f = json.load(json_file)\n",
    "    for json_place in f[\"@graph\"]:\n",
    "        f1.write(json.dumps(json_place) + \"\\n\")"
   ]
  },
  {
   "cell_type": "code",
   "execution_count": 1,
   "metadata": {},
   "outputs": [],
   "source": [
    "import networkx as nx\n",
    "import pandas as pd\n",
    "df = pd.read_json(r'./pleiades_jsonline',lines=True)"
   ]
  },
  {
   "cell_type": "code",
   "execution_count": 25,
   "metadata": {},
   "outputs": [
    {
     "data": {
      "text/html": [
       "<div>\n",
       "<style scoped>\n",
       "    .dataframe tbody tr th:only-of-type {\n",
       "        vertical-align: middle;\n",
       "    }\n",
       "\n",
       "    .dataframe tbody tr th {\n",
       "        vertical-align: top;\n",
       "    }\n",
       "\n",
       "    .dataframe thead th {\n",
       "        text-align: right;\n",
       "    }\n",
       "</style>\n",
       "<table border=\"1\" class=\"dataframe\">\n",
       "  <thead>\n",
       "    <tr style=\"text-align: right;\">\n",
       "      <th></th>\n",
       "      <th>features</th>\n",
       "      <th>contributors</th>\n",
       "      <th>locations</th>\n",
       "      <th>connections</th>\n",
       "      <th>references</th>\n",
       "      <th>names</th>\n",
       "      <th>id</th>\n",
       "      <th>subject</th>\n",
       "      <th>title</th>\n",
       "      <th>provenance</th>\n",
       "      <th>...</th>\n",
       "      <th>reprPoint</th>\n",
       "      <th>placeTypes</th>\n",
       "      <th>bbox</th>\n",
       "      <th>connectsWith</th>\n",
       "      <th>rights</th>\n",
       "      <th>created</th>\n",
       "      <th>uri</th>\n",
       "      <th>creators</th>\n",
       "      <th>@type</th>\n",
       "      <th>history</th>\n",
       "    </tr>\n",
       "  </thead>\n",
       "  <tbody>\n",
       "  </tbody>\n",
       "</table>\n",
       "<p>0 rows × 25 columns</p>\n",
       "</div>"
      ],
      "text/plain": [
       "Empty DataFrame\n",
       "Columns: [features, contributors, locations, connections, references, names, id, subject, title, provenance, placeTypeURIs, details, review_state, type, description, reprPoint, placeTypes, bbox, connectsWith, rights, created, uri, creators, @type, history]\n",
       "Index: []\n",
       "\n",
       "[0 rows x 25 columns]"
      ]
     },
     "execution_count": 25,
     "metadata": {},
     "output_type": "execute_result"
    }
   ],
   "source": [
    "df.head()"
   ]
  },
  {
   "cell_type": "code",
   "execution_count": 3,
   "metadata": {},
   "outputs": [
    {
     "data": {
      "text/plain": [
       "(37151, 25)"
      ]
     },
     "execution_count": 3,
     "metadata": {},
     "output_type": "execute_result"
    }
   ],
   "source": [
    "df_filtered = df.drop(columns=['provenance', 'review_state', 'rights', 'reprPoint','type', 'created', 'creators', 'references', 'contributors', 'history'])\n",
    "df.head()\n",
    "df.shape"
   ]
  },
  {
   "cell_type": "code",
   "execution_count": 4,
   "metadata": {},
   "outputs": [
    {
     "name": "stderr",
     "output_type": "stream",
     "text": [
      "C:\\Users\\Jeremy\\Anaconda3\\lib\\site-packages\\ipykernel_launcher.py:4: SettingWithCopyWarning: \n",
      "A value is trying to be set on a copy of a slice from a DataFrame.\n",
      "Try using .loc[row_indexer,col_indexer] = value instead\n",
      "\n",
      "See the caveats in the documentation: http://pandas.pydata.org/pandas-docs/stable/user_guide/indexing.html#returning-a-view-versus-a-copy\n",
      "  after removing the cwd from sys.path.\n"
     ]
    },
    {
     "data": {
      "text/plain": [
       "[[],\n",
       " [],\n",
       " ['Contestania', 'Contestani'],\n",
       " ['Dianium', 'Hemeroskopeion', 'Dénia, Denia'],\n",
       " ['Ebusus']]"
      ]
     },
     "execution_count": 4,
     "metadata": {},
     "output_type": "execute_result"
    }
   ],
   "source": [
    "df_num_without_conn = df_filtered[df_filtered['connectsWith'].map(lambda d: len(d)) > 0]\n",
    "df_num_without_conn[\"names\"] = df_num_without_conn['names'].apply(lambda x: [i['romanized'] for i in x])\n",
    "df_num_without_conn.head()[\"names\"].values.tolist()"
   ]
  },
  {
   "cell_type": "code",
   "execution_count": 5,
   "metadata": {},
   "outputs": [
    {
     "data": {
      "text/plain": [
       "['Contestania', 'Contestani']"
      ]
     },
     "execution_count": 5,
     "metadata": {},
     "output_type": "execute_result"
    }
   ],
   "source": [
    "df_num_without_conn.head()[\"names\"].values.tolist()[2]"
   ]
  },
  {
   "cell_type": "code",
   "execution_count": 6,
   "metadata": {},
   "outputs": [
    {
     "data": {
      "text/plain": [
       "7237"
      ]
     },
     "execution_count": 6,
     "metadata": {},
     "output_type": "execute_result"
    }
   ],
   "source": [
    "len(df_num_without_conn.index)"
   ]
  },
  {
   "cell_type": "code",
   "execution_count": 7,
   "metadata": {},
   "outputs": [],
   "source": [
    "def parse_id(s):\n",
    "    return s[s.rfind(\"/\")+1:]"
   ]
  },
  {
   "cell_type": "code",
   "execution_count": 42,
   "metadata": {},
   "outputs": [
    {
     "data": {
      "text/plain": [
       "8116"
      ]
     },
     "execution_count": 42,
     "metadata": {},
     "output_type": "execute_result"
    }
   ],
   "source": [
    "G = nx.Graph()\n",
    "for index, row in df_num_without_conn.iterrows():\n",
    "    G.add_node(str(row['id']), title=row['title'])\n",
    "    for c in row['connectsWith']:\n",
    "        if \"places\" in c:\n",
    "            G.add_edge(str(row['id']), parse_id(c))\n",
    "len(G.nodes.data())"
   ]
  },
  {
   "cell_type": "code",
   "execution_count": 12,
   "metadata": {},
   "outputs": [
    {
     "data": {
      "text/plain": [
       "8406"
      ]
     },
     "execution_count": 12,
     "metadata": {},
     "output_type": "execute_result"
    }
   ],
   "source": [
    "print(len(G.edges.keys()))\n",
    "print(len(G.nodes.keys()))"
   ]
  },
  {
   "cell_type": "code",
   "execution_count": 13,
   "metadata": {},
   "outputs": [],
   "source": [
    "G.remove_nodes_from(list(nx.isolates(G)))"
   ]
  },
  {
   "cell_type": "code",
   "execution_count": 14,
   "metadata": {},
   "outputs": [
    {
     "name": "stdout",
     "output_type": "stream",
     "text": [
      "8406\n",
      "8116\n"
     ]
    }
   ],
   "source": [
    "print(len(G.edges.keys()))\n",
    "print(len(G.nodes.keys()))"
   ]
  },
  {
   "cell_type": "code",
   "execution_count": 16,
   "metadata": {},
   "outputs": [
    {
     "name": "stdout",
     "output_type": "stream",
     "text": [
      "{'462492': 0.018460249378171586, '472014': 0.014551570445262835, '91358': 0.013730000606534417, '423025': 0.011384123823953783, '707498': 0.00772340418048712}\n"
     ]
    }
   ],
   "source": [
    "pr = nx.pagerank(G)\n",
    "pr_results = dict(sorted(pr.items(), key=lambda x: x[1], reverse=True)[:5])\n",
    "print(pr_results)"
   ]
  },
  {
   "cell_type": "code",
   "execution_count": 17,
   "metadata": {},
   "outputs": [
    {
     "name": "stdout",
     "output_type": "stream",
     "text": [
      "{'title': 'Sicilia (island)'}\n",
      "\n",
      "{'title': 'Sardinia (island)'}\n",
      "\n",
      "{'title': \"Hadrian's Wall\"}\n",
      "\n",
      "{'title': 'Roma'}\n",
      "\n",
      "{'title': 'Cyprus (island)'}\n",
      "\n"
     ]
    }
   ],
   "source": [
    "for i in pr_results:\n",
    "    print(G.nodes[i])\n",
    "    print()"
   ]
  },
  {
   "cell_type": "code",
   "execution_count": 45,
   "metadata": {},
   "outputs": [],
   "source": [
    "from networkx.algorithms import community\n",
    "communities_generator = community.label_propagation_communities(G)"
   ]
  },
  {
   "cell_type": "code",
   "execution_count": 46,
   "metadata": {},
   "outputs": [],
   "source": [
    "communities = [x for x in communities_generator]"
   ]
  },
  {
   "cell_type": "code",
   "execution_count": 47,
   "metadata": {},
   "outputs": [
    {
     "data": {
      "text/plain": [
       "1668"
      ]
     },
     "execution_count": 47,
     "metadata": {},
     "output_type": "execute_result"
    }
   ],
   "source": [
    "len(communities)"
   ]
  },
  {
   "cell_type": "code",
   "execution_count": 29,
   "metadata": {},
   "outputs": [],
   "source": [
    "from networkx.readwrite import json_graph\n",
    "import json\n",
    "data1 = json_graph.node_link_data(G)\n",
    "nodes = []\n",
    "for d in data1['nodes']:\n",
    "    if len(G.nodes[d['id']]):\n",
    "        d[\"title\"] = G.nodes[d['id']]['title']\n",
    "    else:\n",
    "        d[\"title\"] = d['id']\n",
    "    nodes.append(d)\n",
    "data1['nodes'] = nodes\n"
   ]
  },
  {
   "cell_type": "code",
   "execution_count": 30,
   "metadata": {},
   "outputs": [],
   "source": [
    "with open('graph.json', 'w') as f:\n",
    "    json.dump(data1, f)"
   ]
  },
  {
   "cell_type": "code",
   "execution_count": null,
   "metadata": {},
   "outputs": [],
   "source": []
  }
 ],
 "metadata": {
  "kernelspec": {
   "display_name": "Python 3",
   "language": "python",
   "name": "python3"
  },
  "language_info": {
   "codemirror_mode": {
    "name": "ipython",
    "version": 3
   },
   "file_extension": ".py",
   "mimetype": "text/x-python",
   "name": "python",
   "nbconvert_exporter": "python",
   "pygments_lexer": "ipython3",
   "version": "3.7.4"
  }
 },
 "nbformat": 4,
 "nbformat_minor": 4
}
