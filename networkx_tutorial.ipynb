{
 "cells": [
  {
   "cell_type": "code",
   "execution_count": 1,
   "metadata": {},
   "outputs": [],
   "source": [
    "import json\n",
    "import os\n",
    "with open('./pleiades-places.json','r', encoding=\"utf8\") as json_file, open('./pleiades_jsonline', 'a') as f1:\n",
    "    f = json.load(json_file)\n",
    "    for json_place in f[\"@graph\"]:\n",
    "        f1.write(json.dumps(json_place) + \"\\n\")"
   ]
  },
  {
   "cell_type": "code",
   "execution_count": 1,
   "metadata": {},
   "outputs": [],
   "source": [
    "import networkx as nx\n",
    "import pandas as pd\n",
    "df = pd.read_json(r'./pleiades_jsonline',lines=True)"
   ]
  },
  {
   "cell_type": "code",
   "execution_count": 2,
   "metadata": {},
   "outputs": [
    {
     "data": {
      "text/plain": [
       "array([list([{'end': None, 'description': '', 'contributors': [{'username': 'jbecker', 'homepage': None, 'name': 'Jeffrey Becker', 'uri': 'https://pleiades.stoa.org/author/jbecker'}], 'created': '2016-07-13T14:03:31Z', 'associationCertainty': 'certain', 'title': 'Lycia et Pamphylia', 'start': None, 'provenance': 'Pleiades', 'uri': 'https://pleiades.stoa.org/places/1001914/991384', 'connectionType': 'succeeds', 'id': '991384', 'attestations': [], 'history': [{'comment': 'Initial revision', 'modifiedBy': 'jbecker', 'modified': '2019-06-16T01:41:26Z'}], 'connectsTo': 'https://pleiades.stoa.org/errata/991384', 'details': '', 'references': [], 'review_state': 'published', 'creators': [{'username': 'sgillies', 'homepage': None, 'name': 'Sean Gillies', 'uri': 'https://pleiades.stoa.org/author/sgillies'}], '@type': 'Connection', 'connectionTypeURI': 'https://pleiades.stoa.org/vocabularies/relationship-types/succeeds'}, {'end': None, 'description': '', 'contributors': [], 'created': '2016-07-13T14:03:32Z', 'associationCertainty': 'certain', 'title': 'Lycia et Pamphylia', 'start': None, 'provenance': 'Pleiades', 'uri': 'https://pleiades.stoa.org/places/1001914/981530', 'connectionType': 'connection', 'id': '981530', 'attestations': [], 'history': [], 'connectsTo': 'https://pleiades.stoa.org/places/981530', 'details': '', 'references': [], 'review_state': 'published', 'creators': [{'username': 'admin', 'homepage': None, 'name': '', 'uri': 'https://pleiades.stoa.org/author/admin'}], '@type': 'Connection', 'connectionTypeURI': 'https://pleiades.stoa.org/vocabularies/relationship-types/connection'}])],\n",
       "      dtype=object)"
      ]
     },
     "execution_count": 2,
     "metadata": {},
     "output_type": "execute_result"
    }
   ],
   "source": [
    "df.head()\n",
    "df.query('id==1001914')[\"connectsWith\"].values\n",
    "df.query('id==1001914')[\"connections\"].values"
   ]
  },
  {
   "cell_type": "code",
   "execution_count": 3,
   "metadata": {},
   "outputs": [
    {
     "data": {
      "text/plain": [
       "(37151, 25)"
      ]
     },
     "execution_count": 3,
     "metadata": {},
     "output_type": "execute_result"
    }
   ],
   "source": [
    "#>>> d = {0: {1: {'weight':1}}} # dict-of-dicts single edge (0,1)\n",
    "df_filtered = df.drop(columns=['provenance', 'review_state', 'rights', 'reprPoint','type', 'created', 'creators', 'references', 'contributors', 'history'])\n",
    "df_filtered.columns\n",
    "df.head()\n",
    "df.shape"
   ]
  },
  {
   "cell_type": "code",
   "execution_count": 4,
   "metadata": {},
   "outputs": [
    {
     "data": {
      "text/plain": [
       "[[{'end': None,\n",
       "   'description': '',\n",
       "   'contributors': [],\n",
       "   'created': '2016-11-04T16:36:13Z',\n",
       "   'associationCertainty': 'certain',\n",
       "   'title': 'Alba Fucens',\n",
       "   'start': None,\n",
       "   'provenance': 'Pleiades',\n",
       "   'uri': 'https://pleiades.stoa.org/places/48210385/3733956186',\n",
       "   'connectionType': ['at'],\n",
       "   'id': '3733956186',\n",
       "   'attestations': [],\n",
       "   'history': [],\n",
       "   'connectsTo': 'https://pleiades.stoa.org/places/413005',\n",
       "   'details': '',\n",
       "   'references': [],\n",
       "   'review_state': 'published',\n",
       "   'creators': [{'username': 'thomase',\n",
       "     'homepage': None,\n",
       "     'name': 'Tom Elliott',\n",
       "     'uri': 'https://pleiades.stoa.org/author/thomase'}],\n",
       "   '@type': 'Connection',\n",
       "   'connectionTypeURI': \"https://pleiades.stoa.org/vocabularies/relationship-types/['at']\"}],\n",
       " [{'end': None,\n",
       "   'description': '',\n",
       "   'contributors': [],\n",
       "   'created': '2016-11-04T16:39:10Z',\n",
       "   'associationCertainty': 'certain',\n",
       "   'title': 'Vulci',\n",
       "   'start': None,\n",
       "   'provenance': 'Pleiades',\n",
       "   'uri': 'https://pleiades.stoa.org/places/48210386/5507584577',\n",
       "   'connectionType': ['at'],\n",
       "   'id': '5507584577',\n",
       "   'attestations': [],\n",
       "   'history': [],\n",
       "   'connectsTo': 'https://pleiades.stoa.org/places/413393',\n",
       "   'details': '',\n",
       "   'references': [],\n",
       "   'review_state': 'published',\n",
       "   'creators': [{'username': 'thomase',\n",
       "     'homepage': None,\n",
       "     'name': 'Tom Elliott',\n",
       "     'uri': 'https://pleiades.stoa.org/author/thomase'}],\n",
       "   '@type': 'Connection',\n",
       "   'connectionTypeURI': \"https://pleiades.stoa.org/vocabularies/relationship-types/['at']\"}],\n",
       " [],\n",
       " [{'end': None,\n",
       "   'description': '',\n",
       "   'contributors': [],\n",
       "   'created': '2016-07-13T13:31:09Z',\n",
       "   'associationCertainty': 'certain',\n",
       "   'title': 'Untitled',\n",
       "   'start': None,\n",
       "   'provenance': 'Pleiades',\n",
       "   'uri': 'https://pleiades.stoa.org/places/265880/269561',\n",
       "   'connectionType': 'connection',\n",
       "   'id': '269561',\n",
       "   'attestations': [],\n",
       "   'history': [],\n",
       "   'connectsTo': 'https://pleiades.stoa.org/places/269561',\n",
       "   'details': '',\n",
       "   'references': [],\n",
       "   'review_state': 'published',\n",
       "   'creators': [{'username': 'admin',\n",
       "     'homepage': None,\n",
       "     'name': '',\n",
       "     'uri': 'https://pleiades.stoa.org/author/admin'}],\n",
       "   '@type': 'Connection',\n",
       "   'connectionTypeURI': 'https://pleiades.stoa.org/vocabularies/relationship-types/connection'}],\n",
       " [{'end': None,\n",
       "   'description': '',\n",
       "   'contributors': [],\n",
       "   'created': '2016-07-13T13:31:14Z',\n",
       "   'associationCertainty': 'certain',\n",
       "   'title': 'Ebusus (island)',\n",
       "   'start': None,\n",
       "   'provenance': 'Pleiades',\n",
       "   'uri': 'https://pleiades.stoa.org/places/265883/265884',\n",
       "   'connectionType': 'connection',\n",
       "   'id': '265884',\n",
       "   'attestations': [],\n",
       "   'history': [],\n",
       "   'connectsTo': 'https://pleiades.stoa.org/places/265884',\n",
       "   'details': '',\n",
       "   'references': [],\n",
       "   'review_state': 'published',\n",
       "   'creators': [{'username': 'admin',\n",
       "     'homepage': None,\n",
       "     'name': '',\n",
       "     'uri': 'https://pleiades.stoa.org/author/admin'}],\n",
       "   '@type': 'Connection',\n",
       "   'connectionTypeURI': 'https://pleiades.stoa.org/vocabularies/relationship-types/connection'}]]"
      ]
     },
     "execution_count": 4,
     "metadata": {},
     "output_type": "execute_result"
    }
   ],
   "source": [
    "df_filtered.query('uri == \"https://pleiades.stoa.org/places/59826\"')\n",
    "df['@type'].unique()\n",
    "df_num_without_conn = df[df['connectsWith'].map(lambda d: len(d)) > 0]\n",
    "df_num_without_conn.head()[\"connections\"].values.tolist()"
   ]
  },
  {
   "cell_type": "code",
   "execution_count": 5,
   "metadata": {},
   "outputs": [
    {
     "data": {
      "text/plain": [
       "7237"
      ]
     },
     "execution_count": 5,
     "metadata": {},
     "output_type": "execute_result"
    }
   ],
   "source": [
    "len(df_num_without_conn.index)"
   ]
  },
  {
   "cell_type": "code",
   "execution_count": 6,
   "metadata": {},
   "outputs": [],
   "source": [
    "def parse_id(s):\n",
    "    return s[s.rfind(\"/\")+1:]"
   ]
  },
  {
   "cell_type": "code",
   "execution_count": 7,
   "metadata": {},
   "outputs": [
    {
     "data": {
      "text/plain": [
       "37909"
      ]
     },
     "execution_count": 7,
     "metadata": {},
     "output_type": "execute_result"
    }
   ],
   "source": [
    "G = nx.Graph()\n",
    "for index, row in df_filtered.iterrows():\n",
    "    G.add_node(str(row['id']), title=row['title'], uuid=row['id'],object_type=row['@type'], placeTypes=row['placeTypes'], names=row['names'], description=row.get('description'))\n",
    "    for c in row['connectsWith']:\n",
    "        if \"places\" in c:\n",
    "            G.add_edge(str(row['id']), parse_id(c))\n",
    "            for connection_detail in row['connections']:\n",
    "                if connection_detail['connectsTo'] == c:\n",
    "                    G.add_edge(str(row['id']), parse_id(c), connectionType=connection_detail[\"connectionType\"], uri=connection_detail[\"uri\"])\n",
    "\n",
    "#         G.add_node(parse_id(str(c['connectsTo']), title=c['title'], uuid=c['id'], object_type=c.get('@type'), placeTypes=c.get('placeTypes'), names=c.get('names'), description=c.get('description'))\n",
    "\n",
    "len(G.nodes.data())"
   ]
  },
  {
   "cell_type": "code",
   "execution_count": 41,
   "metadata": {},
   "outputs": [
    {
     "data": {
      "text/plain": [
       "{'uuid': '1',\n",
       " 'connectionType': 'connection',\n",
       " 'uri': 'https://pleiades.stoa.org/places/50391614/462492'}"
      ]
     },
     "execution_count": 41,
     "metadata": {},
     "output_type": "execute_result"
    }
   ],
   "source": [
    "[n for n in G.neighbors('265886')]\n",
    "[n for n in G.edges('462492')]\n",
    "G.edges['462492','50391614']"
   ]
  },
  {
   "cell_type": "code",
   "execution_count": 37,
   "metadata": {},
   "outputs": [
    {
     "name": "stdout",
     "output_type": "stream",
     "text": [
      "37909\n",
      "37151\n",
      "['483124987', '508645486', '837378916', '463398873', '260256453']\n"
     ]
    },
    {
     "data": {
      "text/plain": [
       "29793"
      ]
     },
     "execution_count": 37,
     "metadata": {},
     "output_type": "execute_result"
    }
   ],
   "source": [
    "print(len(G.nodes.keys()))\n",
    "print(len(df['id'].tolist()))\n",
    "dupes = {}\n",
    "keys = set([str(k) for k in G.nodes.keys()])\n",
    "ids = set([str(i) for i in df['id'].tolist()])\n",
    "diff= (keys - ids)\n",
    "print(list(diff)[:5])\n",
    "len([x for x in nx.isolates(G)])"
   ]
  },
  {
   "cell_type": "code",
   "execution_count": 8,
   "metadata": {},
   "outputs": [
    {
     "data": {
      "text/plain": [
       "['265878', '265882', '265886', '265890', '265891']"
      ]
     },
     "execution_count": 8,
     "metadata": {},
     "output_type": "execute_result"
    }
   ],
   "source": [
    "[x for x in nx.isolates(G)][:5]"
   ]
  },
  {
   "cell_type": "code",
   "execution_count": 31,
   "metadata": {},
   "outputs": [
    {
     "name": "stdout",
     "output_type": "stream",
     "text": [
      "{'462492': 0.01111514744235289, '472014': 0.008632852443424266, '91358': 0.008058660269722621, '423025': 0.00692470434074566, '707498': 0.004554251110639502, '589748': 0.004052597981441311, '433032': 0.003436493291550076, '356966898': 0.0026583633810348295, '560221': 0.0020404074841917576, '1004': 0.0017709757370469247}\n"
     ]
    }
   ],
   "source": [
    "pr = nx.pagerank(G)\n",
    "pr_results = dict(sorted(pr.items(), key=lambda x: x[1], reverse=True)[:10])\n",
    "print(pr_results)"
   ]
  },
  {
   "cell_type": "code",
   "execution_count": 25,
   "metadata": {},
   "outputs": [
    {
     "name": "stdout",
     "output_type": "stream",
     "text": [
      "{'title': 'Borgo Medievale', 'uuid': 48210385, 'object_type': 'Place', 'placeTypes': ['settlement'], 'names': [], 'description': 'The post-Roman settlement at Alba Fucens became an administrative center ca. A.D. 870 and remained significant as a center in Marsica until ca. 1143. The area was later subsumed by the Duchy of Spoleto.'}\n",
      "\n",
      "{'title': 'Tempio Grande at Vulci', 'uuid': 48210386, 'object_type': 'Place', 'placeTypes': ['temple-2'], 'names': [], 'description': 'A major urban sanctuary at Vulci with a long period of use, stretching from the archaic period into the Roman period.'}\n",
      "\n",
      "{'title': 'Consabura/Consabrum', 'uuid': 265876, 'object_type': 'Place', 'placeTypes': ['settlement'], 'names': [{'nameType': 'geographic', 'transcriptionAccuracy': 'accurate', 'associationCertainty': 'certain', 'romanized': 'Consabura', 'attestations': [{'timePeriod': 'hellenistic-republican', 'timePeriodURI': 'https://pleiades.stoa.org/vocabularies/time-periods/hellenistic-republican', 'confidence': 'confident', 'confidenceURI': 'https://pleiades.stoa.org/vocabularies/attestation-confidence/confident'}, {'timePeriod': 'roman', 'timePeriodURI': 'https://pleiades.stoa.org/vocabularies/time-periods/roman', 'confidence': 'confident', 'confidenceURI': 'https://pleiades.stoa.org/vocabularies/attestation-confidence/confident'}, {'timePeriod': 'late-antique', 'timePeriodURI': 'https://pleiades.stoa.org/vocabularies/time-periods/late-antique', 'confidence': 'confident', 'confidenceURI': 'https://pleiades.stoa.org/vocabularies/attestation-confidence/confident'}], 'references': [], 'id': 'consabura', 'end': 640, 'contributors': [{'username': None, 'name': 'R. Warner'}, {'username': None, 'name': 'R. Talbert'}, {'username': None, 'name': 'T. Elliott'}, {'username': 'sgillies', 'homepage': None, 'name': 'Sean Gillies', 'uri': 'https://pleiades.stoa.org/author/sgillies'}], 'provenance': 'Pleiades', 'associationCertaintyURI': 'https://pleiades.stoa.org/vocabularies/association-certainty/certain', 'start': -330, 'details': '', 'review_state': 'published', 'description': '', 'transcriptionCompleteness': 'complete', 'language': '', 'created': '2010-09-24T19:02:22Z', 'uri': 'https://pleiades.stoa.org/places/265876/consabura', 'creators': [{'username': None, 'name': 'P.O. Spann'}], 'attested': '', '@type': 'Name', 'history': []}, {'nameType': 'geographic', 'transcriptionAccuracy': 'accurate', 'associationCertainty': 'certain', 'romanized': 'Consabrum', 'attestations': [{'timePeriod': 'hellenistic-republican', 'timePeriodURI': 'https://pleiades.stoa.org/vocabularies/time-periods/hellenistic-republican', 'confidence': 'confident', 'confidenceURI': 'https://pleiades.stoa.org/vocabularies/attestation-confidence/confident'}, {'timePeriod': 'roman', 'timePeriodURI': 'https://pleiades.stoa.org/vocabularies/time-periods/roman', 'confidence': 'confident', 'confidenceURI': 'https://pleiades.stoa.org/vocabularies/attestation-confidence/confident'}, {'timePeriod': 'late-antique', 'timePeriodURI': 'https://pleiades.stoa.org/vocabularies/time-periods/late-antique', 'confidence': 'confident', 'confidenceURI': 'https://pleiades.stoa.org/vocabularies/attestation-confidence/confident'}], 'references': [], 'id': 'consabrum', 'end': 640, 'contributors': [{'username': None, 'name': 'R. Warner'}, {'username': None, 'name': 'R. Talbert'}, {'username': None, 'name': 'T. Elliott'}, {'username': 'sgillies', 'homepage': None, 'name': 'Sean Gillies', 'uri': 'https://pleiades.stoa.org/author/sgillies'}], 'provenance': 'Pleiades', 'associationCertaintyURI': 'https://pleiades.stoa.org/vocabularies/association-certainty/certain', 'start': -330, 'details': '', 'review_state': 'published', 'description': '', 'transcriptionCompleteness': 'complete', 'language': '', 'created': '2010-09-24T19:02:22Z', 'uri': 'https://pleiades.stoa.org/places/265876/consabrum', 'creators': [{'username': None, 'name': 'P.O. Spann'}], 'attested': '', '@type': 'Name', 'history': [{'comment': 'Global migration and reindexing of citations and provenance, February 2012', 'modifiedBy': 'admin', 'modified': '2012-02-15T03:50:56Z'}, {'comment': 'Time periods copied from sibling. See http://atlantides.org/trac/pleiades/wiki/PlaceUpgradesAndMigrations', 'modifiedBy': 'sgillies', 'modified': '2011-01-20T03:26:47Z'}]}, {'nameType': 'geographic', 'transcriptionAccuracy': 'accurate', 'associationCertainty': 'certain', 'romanized': 'Kondabora', 'attestations': [{'timePeriod': 'hellenistic-republican', 'timePeriodURI': 'https://pleiades.stoa.org/vocabularies/time-periods/hellenistic-republican', 'confidence': 'confident', 'confidenceURI': 'https://pleiades.stoa.org/vocabularies/attestation-confidence/confident'}, {'timePeriod': 'roman', 'timePeriodURI': 'https://pleiades.stoa.org/vocabularies/time-periods/roman', 'confidence': 'confident', 'confidenceURI': 'https://pleiades.stoa.org/vocabularies/attestation-confidence/confident'}, {'timePeriod': 'late-antique', 'timePeriodURI': 'https://pleiades.stoa.org/vocabularies/time-periods/late-antique', 'confidence': 'confident', 'confidenceURI': 'https://pleiades.stoa.org/vocabularies/attestation-confidence/confident'}], 'references': [], 'id': 'kondabora', 'end': 640, 'contributors': [{'username': None, 'name': 'R. Warner'}, {'username': None, 'name': 'R. Talbert'}, {'username': None, 'name': 'T. Elliott'}, {'username': 'sgillies', 'homepage': None, 'name': 'Sean Gillies', 'uri': 'https://pleiades.stoa.org/author/sgillies'}], 'provenance': 'Pleiades', 'associationCertaintyURI': 'https://pleiades.stoa.org/vocabularies/association-certainty/certain', 'start': -330, 'details': '', 'review_state': 'published', 'description': '', 'transcriptionCompleteness': 'complete', 'language': '', 'created': '2010-09-24T19:02:22Z', 'uri': 'https://pleiades.stoa.org/places/265876/kondabora', 'creators': [{'username': None, 'name': 'P.O. Spann'}], 'attested': '', '@type': 'Name', 'history': [{'comment': 'Global migration and reindexing of citations and provenance, February 2012', 'modifiedBy': 'admin', 'modified': '2012-02-15T03:50:56Z'}, {'comment': 'Time periods copied from sibling. See http://atlantides.org/trac/pleiades/wiki/PlaceUpgradesAndMigrations', 'modifiedBy': 'sgillies', 'modified': '2011-01-20T03:26:47Z'}]}, {'nameType': 'ethnic', 'transcriptionAccuracy': 'accurate', 'associationCertainty': 'certain', 'romanized': 'Consaburrenses', 'attestations': [{'timePeriod': 'roman', 'timePeriodURI': 'https://pleiades.stoa.org/vocabularies/time-periods/roman', 'confidence': 'confident', 'confidenceURI': 'https://pleiades.stoa.org/vocabularies/attestation-confidence/confident'}], 'references': [{'alternateURI': '', 'accessURI': 'http://latin.packhum.org/loc/978/1/226/417-425', 'citationDetail': '', 'citationTypeURI': 'https://pleiades.stoa.org/vocabularies/feature-type/citesAsEvidence', 'shortTitle': '', 'bibliographicURI': '', 'formattedCitation': 'Plin. HN (Mayhoff: PHI) 3.25.7', 'otherIdentifier': ' ', 'type': 'citesAsEvidence'}], 'id': 'consaburrenses', 'end': 300, 'contributors': [], 'provenance': 'Pleiades', 'associationCertaintyURI': 'https://pleiades.stoa.org/vocabularies/association-certainty/certain', 'start': -30, 'details': '', 'review_state': 'published', 'description': 'An ethnic name used by Pliny the Elder.', 'transcriptionCompleteness': 'complete', 'language': 'la', 'created': '2016-02-08T23:21:01Z', 'uri': 'https://pleiades.stoa.org/places/265876/consaburrenses', 'creators': [{'username': 'jbecker', 'homepage': None, 'name': 'Jeffrey Becker', 'uri': 'https://pleiades.stoa.org/author/jbecker'}], 'attested': 'Consaburrenses', '@type': 'Name', 'history': [{'comment': 'added name', 'modifiedBy': 'jbecker', 'modified': '2016-02-08T23:21:12Z'}]}], 'description': 'An ancient settlement, likely of Celtic origin, located near Consuegra south of Toledo.'}\n",
      "\n",
      "{'title': 'Contestania (region)', 'uuid': 265877, 'object_type': 'Place', 'placeTypes': ['region'], 'names': [{'nameType': 'geographic', 'transcriptionAccuracy': 'accurate', 'associationCertainty': 'certain', 'romanized': 'Contestania', 'attestations': [{'timePeriod': 'hellenistic-republican', 'timePeriodURI': 'https://pleiades.stoa.org/vocabularies/time-periods/hellenistic-republican', 'confidence': 'confident', 'confidenceURI': 'https://pleiades.stoa.org/vocabularies/attestation-confidence/confident'}, {'timePeriod': 'roman', 'timePeriodURI': 'https://pleiades.stoa.org/vocabularies/time-periods/roman', 'confidence': 'confident', 'confidenceURI': 'https://pleiades.stoa.org/vocabularies/attestation-confidence/confident'}], 'references': [{'alternateURI': '', 'accessURI': 'http://latin.packhum.org/loc/978/1/223/291-301,625-635', 'citationDetail': '', 'citationTypeURI': 'https://pleiades.stoa.org/vocabularies/feature-type/citesAsEvidence', 'shortTitle': '', 'bibliographicURI': '', 'formattedCitation': 'Plin. HN (Mayhoff: PHI) 3.19.5, 3.20.3', 'otherIdentifier': '', 'type': 'citesAsEvidence'}], 'id': 'contestania', 'end': 300, 'contributors': [{'username': None, 'name': 'R. Warner'}, {'username': None, 'name': 'R. Talbert'}, {'username': 'sgillies', 'homepage': None, 'name': 'Sean Gillies', 'uri': 'https://pleiades.stoa.org/author/sgillies'}, {'username': 'thomase', 'homepage': None, 'name': 'Tom Elliott', 'uri': 'https://pleiades.stoa.org/author/thomase'}, {'username': 'jbecker', 'homepage': None, 'name': 'Jeffrey Becker', 'uri': 'https://pleiades.stoa.org/author/jbecker'}], 'provenance': 'Barrington Atlas: BAtlas 27 D3 Contestania', 'associationCertaintyURI': 'https://pleiades.stoa.org/vocabularies/association-certainty/certain', 'start': -330, 'details': '', 'review_state': 'published', 'description': '', 'transcriptionCompleteness': 'complete', 'language': 'la', 'created': '2010-09-24T19:02:24Z', 'uri': 'https://pleiades.stoa.org/places/265877/contestania', 'creators': [{'username': None, 'name': 'P.O. Spann'}], 'attested': 'Contestania', '@type': 'Name', 'history': [{'comment': 'added reference Pliny HN', 'modifiedBy': 'jbecker', 'modified': '2016-12-15T02:27:38Z'}, {'comment': 'Global migration and reindexing of citations and provenance, February 2012', 'modifiedBy': 'admin', 'modified': '2012-02-15T03:50:57Z'}]}, {'nameType': 'geographic', 'transcriptionAccuracy': 'accurate', 'associationCertainty': 'certain', 'romanized': 'Contestani', 'attestations': [{'timePeriod': 'hellenistic-republican', 'timePeriodURI': 'https://pleiades.stoa.org/vocabularies/time-periods/hellenistic-republican', 'confidence': 'confident', 'confidenceURI': 'https://pleiades.stoa.org/vocabularies/attestation-confidence/confident'}, {'timePeriod': 'roman', 'timePeriodURI': 'https://pleiades.stoa.org/vocabularies/time-periods/roman', 'confidence': 'confident', 'confidenceURI': 'https://pleiades.stoa.org/vocabularies/attestation-confidence/confident'}], 'references': [], 'id': 'contestani', 'end': 300, 'contributors': [{'username': None, 'name': 'R. Warner'}, {'username': None, 'name': 'R. Talbert'}, {'username': None, 'name': 'T. Elliott'}, {'username': 'sgillies', 'homepage': None, 'name': 'Sean Gillies', 'uri': 'https://pleiades.stoa.org/author/sgillies'}], 'provenance': 'Barrington Atlas: BAtlas 27 D3 Contestania', 'associationCertaintyURI': 'https://pleiades.stoa.org/vocabularies/association-certainty/certain', 'start': -330, 'details': '', 'review_state': 'published', 'description': '', 'transcriptionCompleteness': 'complete', 'language': '', 'created': '2010-09-24T19:02:24Z', 'uri': 'https://pleiades.stoa.org/places/265877/contestani', 'creators': [{'username': None, 'name': 'P.O. Spann'}], 'attested': '', '@type': 'Name', 'history': [{'comment': 'Global migration and reindexing of citations and provenance, February 2012', 'modifiedBy': 'admin', 'modified': '2012-02-15T03:50:57Z'}, {'comment': 'Time periods copied from sibling. See http://atlantides.org/trac/pleiades/wiki/PlaceUpgradesAndMigrations', 'modifiedBy': 'sgillies', 'modified': '2011-01-20T03:26:47Z'}]}], 'description': 'Contestania was a region located in the southwest of Hispania Tarraconensis.'}\n",
      "\n",
      "{'title': 'Cueva de la Paloma', 'uuid': 265878, 'object_type': 'Place', 'placeTypes': ['mine'], 'names': [], 'description': 'An ancient place, cited: BAtlas 27 C4 Cueva de la Paloma'}\n",
      "\n",
      "{'title': 'Dianium/Hemeroskopeion', 'uuid': 265880, 'object_type': 'Place', 'placeTypes': ['settlement'], 'names': [{'nameType': 'geographic', 'transcriptionAccuracy': 'accurate', 'associationCertainty': 'certain', 'romanized': 'Dianium', 'attestations': [{'timePeriod': 'classical', 'timePeriodURI': 'https://pleiades.stoa.org/vocabularies/time-periods/classical', 'confidence': 'confident', 'confidenceURI': 'https://pleiades.stoa.org/vocabularies/attestation-confidence/confident'}, {'timePeriod': 'hellenistic-republican', 'timePeriodURI': 'https://pleiades.stoa.org/vocabularies/time-periods/hellenistic-republican', 'confidence': 'confident', 'confidenceURI': 'https://pleiades.stoa.org/vocabularies/attestation-confidence/confident'}, {'timePeriod': 'roman', 'timePeriodURI': 'https://pleiades.stoa.org/vocabularies/time-periods/roman', 'confidence': 'confident', 'confidenceURI': 'https://pleiades.stoa.org/vocabularies/attestation-confidence/confident'}, {'timePeriod': 'late-antique', 'timePeriodURI': 'https://pleiades.stoa.org/vocabularies/time-periods/late-antique', 'confidence': 'confident', 'confidenceURI': 'https://pleiades.stoa.org/vocabularies/attestation-confidence/confident'}], 'references': [], 'id': 'dianium', 'end': 640, 'contributors': [{'username': None, 'name': 'R. Warner'}, {'username': None, 'name': 'R. Talbert'}, {'username': None, 'name': 'T. Elliott'}, {'username': 'sgillies', 'homepage': None, 'name': 'Sean Gillies', 'uri': 'https://pleiades.stoa.org/author/sgillies'}], 'provenance': 'Barrington Atlas: BAtlas 27 F3 Dianium/Hemeroskopeion', 'associationCertaintyURI': 'https://pleiades.stoa.org/vocabularies/association-certainty/certain', 'start': -550, 'details': '', 'review_state': 'published', 'description': '', 'transcriptionCompleteness': 'complete', 'language': '', 'created': '2010-09-24T19:02:27Z', 'uri': 'https://pleiades.stoa.org/places/265880/dianium', 'creators': [{'username': None, 'name': 'P.O. Spann'}], 'attested': '', '@type': 'Name', 'history': [{'comment': 'Global migration and reindexing of citations and provenance, February 2012', 'modifiedBy': 'admin', 'modified': '2012-02-15T03:50:59Z'}]}, {'nameType': 'geographic', 'transcriptionAccuracy': 'accurate', 'associationCertainty': 'certain', 'romanized': 'Hemeroskopeion', 'attestations': [{'timePeriod': 'classical', 'timePeriodURI': 'https://pleiades.stoa.org/vocabularies/time-periods/classical', 'confidence': 'confident', 'confidenceURI': 'https://pleiades.stoa.org/vocabularies/attestation-confidence/confident'}, {'timePeriod': 'hellenistic-republican', 'timePeriodURI': 'https://pleiades.stoa.org/vocabularies/time-periods/hellenistic-republican', 'confidence': 'confident', 'confidenceURI': 'https://pleiades.stoa.org/vocabularies/attestation-confidence/confident'}, {'timePeriod': 'roman', 'timePeriodURI': 'https://pleiades.stoa.org/vocabularies/time-periods/roman', 'confidence': 'confident', 'confidenceURI': 'https://pleiades.stoa.org/vocabularies/attestation-confidence/confident'}, {'timePeriod': 'late-antique', 'timePeriodURI': 'https://pleiades.stoa.org/vocabularies/time-periods/late-antique', 'confidence': 'confident', 'confidenceURI': 'https://pleiades.stoa.org/vocabularies/attestation-confidence/confident'}], 'references': [], 'id': 'hemeroskopeion', 'end': 640, 'contributors': [{'username': None, 'name': 'R. Warner'}, {'username': None, 'name': 'R. Talbert'}, {'username': None, 'name': 'T. Elliott'}, {'username': 'sgillies', 'homepage': None, 'name': 'Sean Gillies', 'uri': 'https://pleiades.stoa.org/author/sgillies'}], 'provenance': 'Barrington Atlas: BAtlas 27 F3 Dianium/Hemeroskopeion', 'associationCertaintyURI': 'https://pleiades.stoa.org/vocabularies/association-certainty/certain', 'start': -550, 'details': '', 'review_state': 'published', 'description': '', 'transcriptionCompleteness': 'complete', 'language': '', 'created': '2010-09-24T19:02:27Z', 'uri': 'https://pleiades.stoa.org/places/265880/hemeroskopeion', 'creators': [{'username': None, 'name': 'P.O. Spann'}], 'attested': '', '@type': 'Name', 'history': [{'comment': 'Global migration and reindexing of citations and provenance, February 2012', 'modifiedBy': 'admin', 'modified': '2012-02-15T03:50:59Z'}, {'comment': 'Time periods copied from sibling. See http://atlantides.org/trac/pleiades/wiki/PlaceUpgradesAndMigrations', 'modifiedBy': 'sgillies', 'modified': '2011-01-20T03:21:31Z'}]}, {'nameType': 'geographic', 'transcriptionAccuracy': 'accurate', 'associationCertainty': 'certain', 'romanized': 'Dénia, Denia', 'attestations': [{'timePeriod': 'modern', 'timePeriodURI': 'https://pleiades.stoa.org/vocabularies/time-periods/modern', 'confidence': 'confident', 'confidenceURI': 'https://pleiades.stoa.org/vocabularies/attestation-confidence/confident'}], 'references': [{'alternateURI': '', 'accessURI': 'https://en.wikipedia.org/wiki/D%C3%A9nia', 'citationDetail': 'Dénia', 'citationTypeURI': 'https://pleiades.stoa.org/vocabularies/feature-type/citesAsEvidence', 'shortTitle': 'Wikipedia (English)', 'bibliographicURI': 'https://www.zotero.org/groups/2533/items/CI6F6W7W', 'formattedCitation': 'Wikipedia: the free encyclopedia that anyone can edit (2001-), Dénia.', 'otherIdentifier': ' ', 'type': 'citesAsEvidence'}], 'id': 'denia', 'end': 2100, 'contributors': [], 'provenance': 'Pleiades', 'associationCertaintyURI': 'https://pleiades.stoa.org/vocabularies/association-certainty/certain', 'start': 1700, 'details': '', 'review_state': 'published', 'description': '', 'transcriptionCompleteness': 'complete', 'language': 'ca-valencia', 'created': '2012-10-03T20:06:16Z', 'uri': 'https://pleiades.stoa.org/places/265880/denia', 'creators': [{'username': 'jbecker', 'homepage': None, 'name': 'Jeffrey Becker', 'uri': 'https://pleiades.stoa.org/author/jbecker'}], 'attested': 'Dénia', '@type': 'Name', 'history': [{'comment': 'Edited', 'modifiedBy': 'thomase', 'modified': '2012-12-05T03:02:16Z'}, {'comment': 'added name', 'modifiedBy': 'jbecker', 'modified': '2012-10-03T20:06:19Z'}]}], 'description': 'An ancient place, cited: BAtlas 27 F3 Dianium/Hemeroskopeion'}\n",
      "\n",
      "{'title': 'Ebura', 'uuid': 265882, 'object_type': 'Place', 'placeTypes': ['settlement'], 'names': [{'nameType': 'geographic', 'transcriptionAccuracy': 'accurate', 'associationCertainty': 'certain', 'romanized': 'Ebura', 'attestations': [{'timePeriod': 'roman', 'timePeriodURI': 'https://pleiades.stoa.org/vocabularies/time-periods/roman', 'confidence': 'confident', 'confidenceURI': 'https://pleiades.stoa.org/vocabularies/attestation-confidence/confident'}], 'references': [], 'id': 'ebura', 'end': 300, 'contributors': [{'username': None, 'name': 'R. Warner'}, {'username': None, 'name': 'R. Talbert'}, {'username': None, 'name': 'T. Elliott'}, {'username': 'sgillies', 'homepage': None, 'name': 'Sean Gillies', 'uri': 'https://pleiades.stoa.org/author/sgillies'}], 'provenance': 'Barrington Atlas: BAtlas 27 B4 Ebura', 'associationCertaintyURI': 'https://pleiades.stoa.org/vocabularies/association-certainty/certain', 'start': -30, 'details': '', 'review_state': 'published', 'description': '', 'transcriptionCompleteness': 'complete', 'language': '', 'created': '2010-09-24T19:02:29Z', 'uri': 'https://pleiades.stoa.org/places/265882/ebura', 'creators': [{'username': None, 'name': 'P.O. Spann'}], 'attested': '', '@type': 'Name', 'history': [{'comment': 'Global migration and reindexing of citations and provenance, February 2012', 'modifiedBy': 'admin', 'modified': '2012-02-15T03:51:00Z'}]}, {'nameType': 'geographic', 'transcriptionAccuracy': 'accurate', 'associationCertainty': 'certain', 'romanized': 'Cerialis', 'attestations': [{'timePeriod': 'roman', 'timePeriodURI': 'https://pleiades.stoa.org/vocabularies/time-periods/roman', 'confidence': 'confident', 'confidenceURI': 'https://pleiades.stoa.org/vocabularies/attestation-confidence/confident'}], 'references': [], 'id': 'cerialis', 'end': 300, 'contributors': [{'username': None, 'name': 'R. Warner'}, {'username': None, 'name': 'R. Talbert'}, {'username': None, 'name': 'T. Elliott'}, {'username': 'sgillies', 'homepage': None, 'name': 'Sean Gillies', 'uri': 'https://pleiades.stoa.org/author/sgillies'}], 'provenance': 'Barrington Atlas: BAtlas 27 B4 Ebura', 'associationCertaintyURI': 'https://pleiades.stoa.org/vocabularies/association-certainty/certain', 'start': -30, 'details': '', 'review_state': 'published', 'description': '', 'transcriptionCompleteness': 'complete', 'language': '', 'created': '2010-09-24T19:02:29Z', 'uri': 'https://pleiades.stoa.org/places/265882/cerialis', 'creators': [{'username': None, 'name': 'P.O. Spann'}], 'attested': '', '@type': 'Name', 'history': [{'comment': 'Global migration and reindexing of citations and provenance, February 2012', 'modifiedBy': 'admin', 'modified': '2012-02-15T03:51:00Z'}, {'comment': 'Time periods copied from sibling. See http://atlantides.org/trac/pleiades/wiki/PlaceUpgradesAndMigrations', 'modifiedBy': 'sgillies', 'modified': '2011-01-20T03:21:31Z'}]}], 'description': 'An ancient place, cited: BAtlas 27 B4 Ebura'}\n",
      "\n",
      "{'title': 'Ebusus', 'uuid': 265883, 'object_type': 'Place', 'placeTypes': ['settlement'], 'names': [{'nameType': 'geographic', 'transcriptionAccuracy': 'accurate', 'associationCertainty': 'certain', 'romanized': 'Ebusus', 'attestations': [{'timePeriod': 'archaic', 'timePeriodURI': 'https://pleiades.stoa.org/vocabularies/time-periods/archaic', 'confidence': 'confident', 'confidenceURI': 'https://pleiades.stoa.org/vocabularies/attestation-confidence/confident'}, {'timePeriod': 'classical', 'timePeriodURI': 'https://pleiades.stoa.org/vocabularies/time-periods/classical', 'confidence': 'confident', 'confidenceURI': 'https://pleiades.stoa.org/vocabularies/attestation-confidence/confident'}, {'timePeriod': 'hellenistic-republican', 'timePeriodURI': 'https://pleiades.stoa.org/vocabularies/time-periods/hellenistic-republican', 'confidence': 'confident', 'confidenceURI': 'https://pleiades.stoa.org/vocabularies/attestation-confidence/confident'}, {'timePeriod': 'roman', 'timePeriodURI': 'https://pleiades.stoa.org/vocabularies/time-periods/roman', 'confidence': 'confident', 'confidenceURI': 'https://pleiades.stoa.org/vocabularies/attestation-confidence/confident'}, {'timePeriod': 'late-antique', 'timePeriodURI': 'https://pleiades.stoa.org/vocabularies/time-periods/late-antique', 'confidence': 'confident', 'confidenceURI': 'https://pleiades.stoa.org/vocabularies/attestation-confidence/confident'}], 'references': [], 'id': 'ebusus', 'end': 640, 'contributors': [{'username': None, 'name': 'R. Warner'}, {'username': None, 'name': 'R. Talbert'}, {'username': None, 'name': 'T. Elliott'}, {'username': 'sgillies', 'homepage': None, 'name': 'Sean Gillies', 'uri': 'https://pleiades.stoa.org/author/sgillies'}], 'provenance': 'Barrington Atlas: BAtlas 27 G3 Ebusus', 'associationCertaintyURI': 'https://pleiades.stoa.org/vocabularies/association-certainty/certain', 'start': -750, 'details': '', 'review_state': 'published', 'description': '', 'transcriptionCompleteness': 'complete', 'language': '', 'created': '2010-09-24T19:02:31Z', 'uri': 'https://pleiades.stoa.org/places/265883/ebusus', 'creators': [{'username': None, 'name': 'P.O. Spann'}], 'attested': '', '@type': 'Name', 'history': [{'comment': 'Global migration and reindexing of citations and provenance, February 2012', 'modifiedBy': 'admin', 'modified': '2012-02-15T03:51:01Z'}]}], 'description': 'An ancient place, cited: BAtlas 27 G3 Ebusus'}\n",
      "\n",
      "{'title': 'Ebusus (island)', 'uuid': 265884, 'object_type': 'Place', 'placeTypes': ['island'], 'names': [{'nameType': 'geographic', 'transcriptionAccuracy': 'accurate', 'associationCertainty': 'certain', 'romanized': 'Ebusus', 'attestations': [{'timePeriod': 'archaic', 'timePeriodURI': 'https://pleiades.stoa.org/vocabularies/time-periods/archaic', 'confidence': 'confident', 'confidenceURI': 'https://pleiades.stoa.org/vocabularies/attestation-confidence/confident'}, {'timePeriod': 'classical', 'timePeriodURI': 'https://pleiades.stoa.org/vocabularies/time-periods/classical', 'confidence': 'confident', 'confidenceURI': 'https://pleiades.stoa.org/vocabularies/attestation-confidence/confident'}, {'timePeriod': 'hellenistic-republican', 'timePeriodURI': 'https://pleiades.stoa.org/vocabularies/time-periods/hellenistic-republican', 'confidence': 'confident', 'confidenceURI': 'https://pleiades.stoa.org/vocabularies/attestation-confidence/confident'}, {'timePeriod': 'roman', 'timePeriodURI': 'https://pleiades.stoa.org/vocabularies/time-periods/roman', 'confidence': 'confident', 'confidenceURI': 'https://pleiades.stoa.org/vocabularies/attestation-confidence/confident'}, {'timePeriod': 'late-antique', 'timePeriodURI': 'https://pleiades.stoa.org/vocabularies/time-periods/late-antique', 'confidence': 'confident', 'confidenceURI': 'https://pleiades.stoa.org/vocabularies/attestation-confidence/confident'}], 'references': [{'alternateURI': '', 'accessURI': 'http://latin.packhum.org/loc/978/1/242/129-135,1013-1019', 'citationDetail': '', 'citationTypeURI': 'https://pleiades.stoa.org/vocabularies/feature-type/citesAsEvidence', 'shortTitle': '', 'bibliographicURI': '', 'formattedCitation': 'Plin. HN 3.76.2', 'otherIdentifier': ' ', 'type': 'citesAsEvidence'}], 'id': 'ebusus', 'end': 640, 'contributors': [{'username': None, 'name': 'R. Warner'}, {'username': None, 'name': 'R. Talbert'}, {'username': 'sgillies', 'homepage': None, 'name': 'Sean Gillies', 'uri': 'https://pleiades.stoa.org/author/sgillies'}, {'username': 'thomase', 'homepage': None, 'name': 'Tom Elliott', 'uri': 'https://pleiades.stoa.org/author/thomase'}, {'username': 'jbecker', 'homepage': None, 'name': 'Jeffrey Becker', 'uri': 'https://pleiades.stoa.org/author/jbecker'}], 'provenance': 'Barrington Atlas: BAtlas 27 G2 Ebusus Ins.', 'associationCertaintyURI': 'https://pleiades.stoa.org/vocabularies/association-certainty/certain', 'start': -750, 'details': '', 'review_state': 'published', 'description': '', 'transcriptionCompleteness': 'complete', 'language': 'la', 'created': '2010-09-24T19:02:32Z', 'uri': 'https://pleiades.stoa.org/places/265884/ebusus', 'creators': [{'username': None, 'name': 'P.O. Spann'}], 'attested': '', '@type': 'Name', 'history': [{'comment': 'added reference', 'modifiedBy': 'jbecker', 'modified': '2014-07-20T17:53:37Z'}, {'comment': 'Global migration and reindexing of citations and provenance, February 2012', 'modifiedBy': 'admin', 'modified': '2012-02-15T03:51:02Z'}]}], 'description': 'Ebusus Ins. (modern Ibiza) is an island in the western Mediterranean Sea.'}\n",
      "\n",
      "{'title': 'Edeba', 'uuid': 265886, 'object_type': 'Place', 'placeTypes': ['settlement'], 'names': [{'nameType': 'geographic', 'transcriptionAccuracy': 'accurate', 'associationCertainty': 'certain', 'romanized': 'Edeba', 'attestations': [{'timePeriod': 'roman', 'timePeriodURI': 'https://pleiades.stoa.org/vocabularies/time-periods/roman', 'confidence': 'confident', 'confidenceURI': 'https://pleiades.stoa.org/vocabularies/attestation-confidence/confident'}], 'references': [], 'id': 'edeba', 'end': 300, 'contributors': [{'username': None, 'name': 'R. Warner'}, {'username': None, 'name': 'R. Talbert'}, {'username': None, 'name': 'T. Elliott'}, {'username': 'sgillies', 'homepage': None, 'name': 'Sean Gillies', 'uri': 'https://pleiades.stoa.org/author/sgillies'}], 'provenance': 'Barrington Atlas: BAtlas 27 B3 Edeba', 'associationCertaintyURI': 'https://pleiades.stoa.org/vocabularies/association-certainty/certain', 'start': -30, 'details': '', 'review_state': 'published', 'description': '', 'transcriptionCompleteness': 'complete', 'language': '', 'created': '2010-09-24T19:02:34Z', 'uri': 'https://pleiades.stoa.org/places/265886/edeba', 'creators': [{'username': None, 'name': 'P.O. Spann'}], 'attested': '', '@type': 'Name', 'history': [{'comment': 'Global migration and reindexing of citations and provenance, February 2012', 'modifiedBy': 'admin', 'modified': '2012-02-15T03:51:03Z'}]}], 'description': 'An ancient place, cited: BAtlas 27 B3 Edeba'}\n",
      "\n"
     ]
    }
   ],
   "source": [
    "\n",
    "\n",
    "for i in pr_results:\n",
    "    print(G.nodes[i])\n",
    "    print()\n",
    "#compute page rank for most important nodes. Identify the most influential vertices in a graph based on connections - as a measure of centrality\n",
    "#find which node id's are not in the original set\n",
    "#finding community centers\n",
    "#change to directed graph?\n",
    "#https://docs.databricks.com/spark/latest/graph-analysis/graphframes/user-guide-python.html\n",
    "#http://snap.stanford.edu/class/cs224w-2017/projects/cs224w-9-final.pdf\n",
    "#https://neo4j.com/docs/graph-algorithms/current/labs-algorithms/strongly-connected-components/"
   ]
  },
  {
   "cell_type": "code",
   "execution_count": 34,
   "metadata": {
    "collapsed": true,
    "jupyter": {
     "outputs_hidden": true
    }
   },
   "outputs": [
    {
     "data": {
      "text/plain": [
       "{'title': 'Mactaris',\n",
       " 'uuid': 324774,\n",
       " 'object_type': 'Place',\n",
       " 'placeTypes': ['settlement'],\n",
       " 'names': [{'nameType': 'geographic',\n",
       "   'transcriptionAccuracy': 'accurate',\n",
       "   'associationCertainty': 'certain',\n",
       "   'romanized': 'Mactaris',\n",
       "   'attestations': [{'timePeriod': 'hellenistic-republican',\n",
       "     'timePeriodURI': 'https://pleiades.stoa.org/vocabularies/time-periods/hellenistic-republican',\n",
       "     'confidence': 'confident',\n",
       "     'confidenceURI': 'https://pleiades.stoa.org/vocabularies/attestation-confidence/confident'},\n",
       "    {'timePeriod': 'roman',\n",
       "     'timePeriodURI': 'https://pleiades.stoa.org/vocabularies/time-periods/roman',\n",
       "     'confidence': 'confident',\n",
       "     'confidenceURI': 'https://pleiades.stoa.org/vocabularies/attestation-confidence/confident'},\n",
       "    {'timePeriod': 'late-antique',\n",
       "     'timePeriodURI': 'https://pleiades.stoa.org/vocabularies/time-periods/late-antique',\n",
       "     'confidence': 'confident',\n",
       "     'confidenceURI': 'https://pleiades.stoa.org/vocabularies/attestation-confidence/confident'}],\n",
       "   'references': [{'alternateURI': '',\n",
       "     'accessURI': 'https://en.wikipedia.org/wiki/Maktar',\n",
       "     'citationDetail': 'Maktar',\n",
       "     'citationTypeURI': 'https://pleiades.stoa.org/vocabularies/feature-type/citesAsEvidence',\n",
       "     'shortTitle': 'Wikipedia (English)',\n",
       "     'bibliographicURI': 'https://www.zotero.org/groups/2533/items/CI6F6W7W',\n",
       "     'formattedCitation': 'Wikipedia: the free encyclopedia that anyone can edit (2001-), Maktar.',\n",
       "     'otherIdentifier': ' ',\n",
       "     'type': 'citesAsEvidence'}],\n",
       "   'id': 'mactaris',\n",
       "   'end': 640,\n",
       "   'contributors': [{'username': None, 'name': 'R. Warner'},\n",
       "    {'username': None, 'name': 'R. Talbert'},\n",
       "    {'username': 'sgillies',\n",
       "     'homepage': None,\n",
       "     'name': 'Sean Gillies',\n",
       "     'uri': 'https://pleiades.stoa.org/author/sgillies'},\n",
       "    {'username': 'thomase',\n",
       "     'homepage': None,\n",
       "     'name': 'Tom Elliott',\n",
       "     'uri': 'https://pleiades.stoa.org/author/thomase'},\n",
       "    {'username': 'jbecker',\n",
       "     'homepage': None,\n",
       "     'name': 'Jeffrey Becker',\n",
       "     'uri': 'https://pleiades.stoa.org/author/jbecker'}],\n",
       "   'provenance': 'Barrington Atlas: BAtlas 33 D1 Mactaris',\n",
       "   'associationCertaintyURI': 'https://pleiades.stoa.org/vocabularies/association-certainty/certain',\n",
       "   'start': -330,\n",
       "   'details': '',\n",
       "   'review_state': 'published',\n",
       "   'description': '',\n",
       "   'transcriptionCompleteness': 'complete',\n",
       "   'language': 'la',\n",
       "   'created': '2010-09-28T13:57:34Z',\n",
       "   'uri': 'https://pleiades.stoa.org/places/324774/mactaris',\n",
       "   'creators': [{'username': None, 'name': 'R.B. Hitchner'}],\n",
       "   'attested': '',\n",
       "   '@type': 'Name',\n",
       "   'history': [{'comment': 'added reference',\n",
       "     'modifiedBy': 'jbecker',\n",
       "     'modified': '2014-05-24T17:54:09Z'},\n",
       "    {'comment': 'Global migration and reindexing of citations and provenance, February 2012',\n",
       "     'modifiedBy': 'admin',\n",
       "     'modified': '2012-02-15T04:16:31Z'}]}],\n",
       " 'description': 'A Numidian site that eventually became a Roman colony in the second century AD.'}"
      ]
     },
     "execution_count": 34,
     "metadata": {},
     "output_type": "execute_result"
    }
   ],
   "source": []
  },
  {
   "cell_type": "code",
   "execution_count": 16,
   "metadata": {},
   "outputs": [],
   "source": [
    "from networkx.readwrite import json_graph\n",
    "import json\n",
    "data1 = json_graph.node_link_data(G, {'link': 'edges', 'source': 'from', 'target': 'to'})\n",
    "with open('data.json', 'w') as f:\n",
    "    json.dump(data1, f)"
   ]
  },
  {
   "cell_type": "code",
   "execution_count": null,
   "metadata": {},
   "outputs": [],
   "source": [
    "len(G.nodes.data())"
   ]
  },
  {
   "cell_type": "code",
   "execution_count": 62,
   "metadata": {},
   "outputs": [
    {
     "data": {
      "text/plain": [
       "(37151, 25)"
      ]
     },
     "execution_count": 62,
     "metadata": {},
     "output_type": "execute_result"
    }
   ],
   "source": [
    "df.shape"
   ]
  },
  {
   "cell_type": "code",
   "execution_count": 38,
   "metadata": {},
   "outputs": [
    {
     "data": {
      "text/plain": [
       "'912977'"
      ]
     },
     "execution_count": 38,
     "metadata": {},
     "output_type": "execute_result"
    }
   ],
   "source": [
    "s[s.rfind(\"/\")+1:]"
   ]
  },
  {
   "cell_type": "code",
   "execution_count": 76,
   "metadata": {},
   "outputs": [],
   "source": [
    "G_temp = nx.Graph()"
   ]
  },
  {
   "cell_type": "code",
   "execution_count": 13,
   "metadata": {},
   "outputs": [
    {
     "ename": "NameError",
     "evalue": "name 'G_temp' is not defined",
     "output_type": "error",
     "traceback": [
      "\u001b[1;31m---------------------------------------------------------------------------\u001b[0m",
      "\u001b[1;31mNameError\u001b[0m                                 Traceback (most recent call last)",
      "\u001b[1;32m<ipython-input-13-940cfa25766a>\u001b[0m in \u001b[0;36m<module>\u001b[1;34m\u001b[0m\n\u001b[1;32m----> 1\u001b[1;33m \u001b[0mG_temp\u001b[0m\u001b[1;33m.\u001b[0m\u001b[0madd_node\u001b[0m\u001b[1;33m(\u001b[0m\u001b[1;36m1\u001b[0m\u001b[1;33m,\u001b[0m \u001b[0mpayload\u001b[0m\u001b[1;33m=\u001b[0m\u001b[1;33m{\u001b[0m\u001b[1;34m\"description\"\u001b[0m\u001b[1;33m:\u001b[0m \u001b[1;34m'text here'\u001b[0m\u001b[1;33m}\u001b[0m\u001b[1;33m)\u001b[0m\u001b[1;33m\u001b[0m\u001b[1;33m\u001b[0m\u001b[0m\n\u001b[0m\u001b[0;32m      2\u001b[0m \u001b[0mG_temp\u001b[0m\u001b[1;33m.\u001b[0m\u001b[0madd_edge\u001b[0m\u001b[1;33m(\u001b[0m\u001b[1;36m1\u001b[0m\u001b[1;33m,\u001b[0m \u001b[1;36m2\u001b[0m\u001b[1;33m)\u001b[0m\u001b[1;33m\u001b[0m\u001b[1;33m\u001b[0m\u001b[0m\n\u001b[0;32m      3\u001b[0m \u001b[0mG_temp\u001b[0m\u001b[1;33m.\u001b[0m\u001b[0madd_node\u001b[0m\u001b[1;33m(\u001b[0m\u001b[1;36m1\u001b[0m\u001b[1;33m,\u001b[0m \u001b[0mpayload\u001b[0m\u001b[1;33m=\u001b[0m\u001b[1;33m{\u001b[0m\u001b[1;34m\"description\"\u001b[0m\u001b[1;33m:\u001b[0m \u001b[1;34m'another one'\u001b[0m\u001b[1;33m}\u001b[0m\u001b[1;33m)\u001b[0m\u001b[1;33m\u001b[0m\u001b[1;33m\u001b[0m\u001b[0m\n\u001b[0;32m      4\u001b[0m \u001b[0mG_temp\u001b[0m\u001b[1;33m.\u001b[0m\u001b[0madd_node\u001b[0m\u001b[1;33m(\u001b[0m\u001b[1;36m2\u001b[0m\u001b[1;33m,\u001b[0m \u001b[0mpayload\u001b[0m\u001b[1;33m=\u001b[0m\u001b[1;33m{\u001b[0m\u001b[1;34m\"description\"\u001b[0m\u001b[1;33m:\u001b[0m \u001b[1;34m'another two'\u001b[0m\u001b[1;33m}\u001b[0m\u001b[1;33m)\u001b[0m\u001b[1;33m\u001b[0m\u001b[1;33m\u001b[0m\u001b[0m\n\u001b[0;32m      5\u001b[0m \u001b[0mG_temp\u001b[0m\u001b[1;33m.\u001b[0m\u001b[0madd_edge\u001b[0m\u001b[1;33m(\u001b[0m\u001b[1;36m2\u001b[0m\u001b[1;33m,\u001b[0m \u001b[1;36m1\u001b[0m\u001b[1;33m,\u001b[0m \u001b[0mdescription\u001b[0m\u001b[1;33m=\u001b[0m\u001b[1;34m\"edge 1\"\u001b[0m\u001b[1;33m)\u001b[0m\u001b[1;33m\u001b[0m\u001b[1;33m\u001b[0m\u001b[0m\n",
      "\u001b[1;31mNameError\u001b[0m: name 'G_temp' is not defined"
     ]
    }
   ],
   "source": [
    "G_temp.add_node(1, payload={\"description\": 'text here'})\n",
    "G_temp.add_edge(1, 2)\n",
    "G_temp.add_node(1, payload={\"description\": 'another one'})\n",
    "G_temp.add_node(2, payload={\"description\": 'another two'})\n",
    "G_temp.add_edge(2, 1, description=\"edge 1\")\n",
    "G_temp.add_edge(3, 1)\n",
    "G_temp.add_edge(1, 2, description=\"edge 2\")\n"
   ]
  },
  {
   "cell_type": "code",
   "execution_count": 78,
   "metadata": {},
   "outputs": [
    {
     "name": "stdout",
     "output_type": "stream",
     "text": [
      "[(1, {'payload': {'description': 'another one'}}), (2, {'payload': {'description': 'another two'}}), (3, {})]\n",
      "[(1, 2, {'description': 'edge 2'}), (1, 3, {})]\n",
      "\n",
      "{'payload': {'description': 'another one'}}\n",
      "{'payload': {'description': 'another two'}}\n",
      "{}\n"
     ]
    }
   ],
   "source": [
    "print(G_temp.nodes.data())\n",
    "print(G_temp.edges.data())\n",
    "len(G_temp.nodes[3])\n",
    "print()\n",
    "for n in G_temp:\n",
    "    print(G_temp.nodes[n])"
   ]
  },
  {
   "cell_type": "code",
   "execution_count": 7,
   "metadata": {},
   "outputs": [
    {
     "name": "stderr",
     "output_type": "stream",
     "text": [
      "C:\\Users\\Jeremy\\Anaconda3\\lib\\site-packages\\networkx\\drawing\\nx_pylab.py:579: MatplotlibDeprecationWarning: \n",
      "The iterable function was deprecated in Matplotlib 3.1 and will be removed in 3.3. Use np.iterable instead.\n",
      "  if not cb.iterable(width):\n"
     ]
    },
    {
     "data": {
      "image/png": "[encoded data removed]",
      "text/plain": [
       "<Figure size 432x288 with 1 Axes>"
      ]
     },
     "metadata": {},
     "output_type": "display_data"
    }
   ],
   "source": [
    "import matplotlib.pyplot as plt\n",
    "G = nx.petersen_graph()\n",
    "nx.draw(G, with_labels=True, font_weight='bold')"
   ]
  },
  {
   "cell_type": "code",
   "execution_count": null,
   "metadata": {},
   "outputs": [],
   "source": []
  }
 ],
 "metadata": {
  "kernelspec": {
   "display_name": "Python 3",
   "language": "python",
   "name": "python3"
  },
  "language_info": {
   "codemirror_mode": {
    "name": "ipython",
    "version": 3
   },
   "file_extension": ".py",
   "mimetype": "text/x-python",
   "name": "python",
   "nbconvert_exporter": "python",
   "pygments_lexer": "ipython3",
   "version": "3.7.4"
  }
 },
 "nbformat": 4,
 "nbformat_minor": 4
}
