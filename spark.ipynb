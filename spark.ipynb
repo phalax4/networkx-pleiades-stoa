{
 "cells": [
  {
   "cell_type": "code",
   "execution_count": 1,
   "metadata": {},
   "outputs": [],
   "source": [
    "import pyspark\n",
    "import findspark\n",
    "from IPython.display import display\n",
    "# findspark.init()\n",
    "#sc.stop()\n",
    "import networkx as nx"
   ]
  },
  {
   "cell_type": "code",
   "execution_count": 4,
   "metadata": {},
   "outputs": [
    {
     "name": "stdout",
     "output_type": "stream",
     "text": [
      "3.14131604\n"
     ]
    }
   ],
   "source": [
    "import pyspark\n",
    "import random\n",
    "\n",
    "sc = pyspark.SparkContext(appName=\"Pi\").getOrCreate()\n",
    "num_samples = 100000000\n",
    "\n",
    "def inside(p):     \n",
    "  x, y = random.random(), random.random()\n",
    "  return x*x + y*y < 1\n",
    "\n",
    "count = sc.parallelize(range(0, num_samples)).filter(inside).count()\n",
    "\n",
    "pi = 4 * count / num_samples\n",
    "print(pi)\n",
    "\n",
    "sc.stop()"
   ]
  },
  {
   "cell_type": "code",
   "execution_count": 2,
   "metadata": {},
   "outputs": [
    {
     "name": "stdout",
     "output_type": "stream",
     "text": [
      "Lines with a: 64, lines with b: 32\n"
     ]
    }
   ],
   "source": [
    "from pyspark import SparkContext\n",
    "logFile = \"file:///C:\\\\Users\\\\Jeremy\\\\Documents\\\\spark-3.0.0-bin-hadoop3.2\\\\README.md\"  \n",
    "sc = SparkContext(\"local\", \"first app\")\n",
    "logData = sc.textFile(logFile).cache()\n",
    "numAs = logData.filter(lambda s: 'a' in s).count()\n",
    "numBs = logData.filter(lambda s: 'b' in s).count()\n",
    "print(\"Lines with a: %i, lines with b: %i\" % (numAs, numBs))\n",
    "sc.stop()"
   ]
  },
  {
   "cell_type": "code",
   "execution_count": 5,
   "metadata": {},
   "outputs": [
    {
     "name": "stdout",
     "output_type": "stream",
     "text": [
      "Accumulated value is -> 150\n"
     ]
    }
   ],
   "source": [
    "num = sc.accumulator(10) \n",
    "def f(x): \n",
    "   global num \n",
    "   num+=x \n",
    "rdd = sc.parallelize([20,30,40,50]) \n",
    "rdd.foreach(f) \n",
    "final = num.value \n",
    "print (\"Accumulated value is -> %i\" % (final))"
   ]
  },
  {
   "cell_type": "code",
   "execution_count": 8,
   "metadata": {},
   "outputs": [],
   "source": [
    "spark = pyspark.sql.SparkSession.builder.appName(\"delta_app\") \\\n",
    "    .config(\"spark.jars.packages\", \"io.delta:delta-core_2.12:0.7.0\") \\\n",
    "    .config(\"spark.sql.extensions\", \"io.delta.sql.DeltaSparkSessionExtension\") \\\n",
    "    .config(\"spark.sql.catalog.spark_catalog\", \"org.apache.spark.sql.delta.catalog.DeltaCatalog\") \\\n",
    "    .getOrCreate()\n",
    "\n"
   ]
  },
  {
   "cell_type": "code",
   "execution_count": 2,
   "metadata": {},
   "outputs": [],
   "source": [
    "from delta.tables import *"
   ]
  },
  {
   "cell_type": "code",
   "execution_count": 3,
   "metadata": {},
   "outputs": [
    {
     "ename": "AnalysisException",
     "evalue": "file:/tmp/delta-table already exists.;",
     "output_type": "error",
     "traceback": [
      "\u001b[1;31m---------------------------------------------------------------------------\u001b[0m",
      "\u001b[1;31mAnalysisException\u001b[0m                         Traceback (most recent call last)",
      "\u001b[1;32m<ipython-input-3-42269ec0786d>\u001b[0m in \u001b[0;36m<module>\u001b[1;34m\u001b[0m\n\u001b[0;32m      1\u001b[0m \u001b[0mdata\u001b[0m \u001b[1;33m=\u001b[0m \u001b[0mspark\u001b[0m\u001b[1;33m.\u001b[0m\u001b[0mrange\u001b[0m\u001b[1;33m(\u001b[0m\u001b[1;36m0\u001b[0m\u001b[1;33m,\u001b[0m \u001b[1;36m5\u001b[0m\u001b[1;33m)\u001b[0m\u001b[1;33m\u001b[0m\u001b[1;33m\u001b[0m\u001b[0m\n\u001b[1;32m----> 2\u001b[1;33m \u001b[0mdata\u001b[0m\u001b[1;33m.\u001b[0m\u001b[0mwrite\u001b[0m\u001b[1;33m.\u001b[0m\u001b[0mformat\u001b[0m\u001b[1;33m(\u001b[0m\u001b[1;34m\"delta\"\u001b[0m\u001b[1;33m)\u001b[0m\u001b[1;33m.\u001b[0m\u001b[0msave\u001b[0m\u001b[1;33m(\u001b[0m\u001b[1;34m\"/tmp/delta-table\"\u001b[0m\u001b[1;33m)\u001b[0m\u001b[1;33m\u001b[0m\u001b[1;33m\u001b[0m\u001b[0m\n\u001b[0m",
      "\u001b[1;32m~\\Documents\\spark-3.0.0-bin-hadoop3.2\\python\\pyspark\\sql\\readwriter.py\u001b[0m in \u001b[0;36msave\u001b[1;34m(self, path, format, mode, partitionBy, **options)\u001b[0m\n\u001b[0;32m    825\u001b[0m             \u001b[0mself\u001b[0m\u001b[1;33m.\u001b[0m\u001b[0m_jwrite\u001b[0m\u001b[1;33m.\u001b[0m\u001b[0msave\u001b[0m\u001b[1;33m(\u001b[0m\u001b[1;33m)\u001b[0m\u001b[1;33m\u001b[0m\u001b[1;33m\u001b[0m\u001b[0m\n\u001b[0;32m    826\u001b[0m         \u001b[1;32melse\u001b[0m\u001b[1;33m:\u001b[0m\u001b[1;33m\u001b[0m\u001b[1;33m\u001b[0m\u001b[0m\n\u001b[1;32m--> 827\u001b[1;33m             \u001b[0mself\u001b[0m\u001b[1;33m.\u001b[0m\u001b[0m_jwrite\u001b[0m\u001b[1;33m.\u001b[0m\u001b[0msave\u001b[0m\u001b[1;33m(\u001b[0m\u001b[0mpath\u001b[0m\u001b[1;33m)\u001b[0m\u001b[1;33m\u001b[0m\u001b[1;33m\u001b[0m\u001b[0m\n\u001b[0m\u001b[0;32m    828\u001b[0m \u001b[1;33m\u001b[0m\u001b[0m\n\u001b[0;32m    829\u001b[0m     \u001b[1;33m@\u001b[0m\u001b[0msince\u001b[0m\u001b[1;33m(\u001b[0m\u001b[1;36m1.4\u001b[0m\u001b[1;33m)\u001b[0m\u001b[1;33m\u001b[0m\u001b[1;33m\u001b[0m\u001b[0m\n",
      "\u001b[1;32m~\\Documents\\spark-3.0.0-bin-hadoop3.2\\python\\lib\\py4j-0.10.9-src.zip\\py4j\\java_gateway.py\u001b[0m in \u001b[0;36m__call__\u001b[1;34m(self, *args)\u001b[0m\n\u001b[0;32m   1303\u001b[0m         \u001b[0manswer\u001b[0m \u001b[1;33m=\u001b[0m \u001b[0mself\u001b[0m\u001b[1;33m.\u001b[0m\u001b[0mgateway_client\u001b[0m\u001b[1;33m.\u001b[0m\u001b[0msend_command\u001b[0m\u001b[1;33m(\u001b[0m\u001b[0mcommand\u001b[0m\u001b[1;33m)\u001b[0m\u001b[1;33m\u001b[0m\u001b[1;33m\u001b[0m\u001b[0m\n\u001b[0;32m   1304\u001b[0m         return_value = get_return_value(\n\u001b[1;32m-> 1305\u001b[1;33m             answer, self.gateway_client, self.target_id, self.name)\n\u001b[0m\u001b[0;32m   1306\u001b[0m \u001b[1;33m\u001b[0m\u001b[0m\n\u001b[0;32m   1307\u001b[0m         \u001b[1;32mfor\u001b[0m \u001b[0mtemp_arg\u001b[0m \u001b[1;32min\u001b[0m \u001b[0mtemp_args\u001b[0m\u001b[1;33m:\u001b[0m\u001b[1;33m\u001b[0m\u001b[1;33m\u001b[0m\u001b[0m\n",
      "\u001b[1;32m~\\Documents\\spark-3.0.0-bin-hadoop3.2\\python\\pyspark\\sql\\utils.py\u001b[0m in \u001b[0;36mdeco\u001b[1;34m(*a, **kw)\u001b[0m\n\u001b[0;32m    135\u001b[0m                 \u001b[1;31m# Hide where the exception came from that shows a non-Pythonic\u001b[0m\u001b[1;33m\u001b[0m\u001b[1;33m\u001b[0m\u001b[1;33m\u001b[0m\u001b[0m\n\u001b[0;32m    136\u001b[0m                 \u001b[1;31m# JVM exception message.\u001b[0m\u001b[1;33m\u001b[0m\u001b[1;33m\u001b[0m\u001b[1;33m\u001b[0m\u001b[0m\n\u001b[1;32m--> 137\u001b[1;33m                 \u001b[0mraise_from\u001b[0m\u001b[1;33m(\u001b[0m\u001b[0mconverted\u001b[0m\u001b[1;33m)\u001b[0m\u001b[1;33m\u001b[0m\u001b[1;33m\u001b[0m\u001b[0m\n\u001b[0m\u001b[0;32m    138\u001b[0m             \u001b[1;32melse\u001b[0m\u001b[1;33m:\u001b[0m\u001b[1;33m\u001b[0m\u001b[1;33m\u001b[0m\u001b[0m\n\u001b[0;32m    139\u001b[0m                 \u001b[1;32mraise\u001b[0m\u001b[1;33m\u001b[0m\u001b[1;33m\u001b[0m\u001b[0m\n",
      "\u001b[1;32m~\\Documents\\spark-3.0.0-bin-hadoop3.2\\python\\pyspark\\sql\\utils.py\u001b[0m in \u001b[0;36mraise_from\u001b[1;34m(e)\u001b[0m\n",
      "\u001b[1;31mAnalysisException\u001b[0m: file:/tmp/delta-table already exists.;"
     ]
    }
   ],
   "source": [
    "data = spark.range(0, 5)\n",
    "data.write.format(\"delta\").save(\"/tmp/delta-table\")\n"
   ]
  },
  {
   "cell_type": "code",
   "execution_count": 4,
   "metadata": {},
   "outputs": [
    {
     "name": "stdout",
     "output_type": "stream",
     "text": [
      "+---+\n",
      "| id|\n",
      "+---+\n",
      "|  4|\n",
      "|  0|\n",
      "|  3|\n",
      "|  2|\n",
      "|  1|\n",
      "+---+\n",
      "\n"
     ]
    }
   ],
   "source": [
    "df = spark.read.format(\"delta\").load(\"/tmp/delta-table\")\n",
    "df.show()"
   ]
  },
  {
   "cell_type": "code",
   "execution_count": 5,
   "metadata": {},
   "outputs": [],
   "source": [
    "data = spark.range(5, 10)\n",
    "data.write.format(\"delta\").mode(\"overwrite\").save(\"/tmp/delta-table\")"
   ]
  },
  {
   "cell_type": "code",
   "execution_count": 6,
   "metadata": {},
   "outputs": [
    {
     "name": "stdout",
     "output_type": "stream",
     "text": [
      "+---+\n",
      "| id|\n",
      "+---+\n",
      "|  8|\n",
      "|  6|\n",
      "|  9|\n",
      "|  7|\n",
      "|  5|\n",
      "+---+\n",
      "\n"
     ]
    }
   ],
   "source": [
    "df.show()"
   ]
  },
  {
   "cell_type": "code",
   "execution_count": 8,
   "metadata": {},
   "outputs": [
    {
     "name": "stdout",
     "output_type": "stream",
     "text": [
      "+---+\n",
      "| id|\n",
      "+---+\n",
      "| 18|\n",
      "|  7|\n",
      "| 11|\n",
      "|  2|\n",
      "|  8|\n",
      "| 15|\n",
      "| 19|\n",
      "|  1|\n",
      "| 10|\n",
      "|  4|\n",
      "| 14|\n",
      "|  3|\n",
      "|  5|\n",
      "| 12|\n",
      "|  0|\n",
      "|  6|\n",
      "| 13|\n",
      "| 16|\n",
      "| 17|\n",
      "|  9|\n",
      "+---+\n",
      "\n"
     ]
    }
   ],
   "source": [
    "from pyspark.sql.functions import *\n",
    "\n",
    "deltaTable = DeltaTable.forPath(spark, \"/tmp/delta-table\")\n",
    "\n",
    "# Update every even value by adding 100 to it\n",
    "deltaTable.update(\n",
    "  condition = expr(\"id % 2 == 0\"),\n",
    "  set = { \"id\": expr(\"id + 100\") })\n",
    "\n",
    "# Delete every even value\n",
    "deltaTable.delete(condition = expr(\"id % 2 == 0\"))\n",
    "\n",
    "# Upsert (merge) new data\n",
    "newData = spark.range(0, 20)\n",
    "\n",
    "deltaTable.alias(\"oldData\") \\\n",
    "  .merge(\n",
    "    newData.alias(\"newData\"),\n",
    "    \"oldData.id = newData.id\") \\\n",
    "  .whenMatchedUpdate(set = { \"id\": col(\"newData.id\") }) \\\n",
    "  .whenNotMatchedInsert(values = { \"id\": col(\"newData.id\") }) \\\n",
    "  .execute()\n",
    "\n",
    "deltaTable.toDF().show()"
   ]
  },
  {
   "cell_type": "code",
   "execution_count": 73,
   "metadata": {},
   "outputs": [
    {
     "name": "stdout",
     "output_type": "stream",
     "text": [
      "+---+\n",
      "| id|\n",
      "+---+\n",
      "|  8|\n",
      "|  6|\n",
      "|  9|\n",
      "|  7|\n",
      "|  5|\n",
      "+---+\n",
      "\n"
     ]
    },
    {
     "data": {
      "text/plain": [
       "Column<b'id[0]'>"
      ]
     },
     "execution_count": 73,
     "metadata": {},
     "output_type": "execute_result"
    }
   ],
   "source": [
    "df = spark.read.format(\"delta\").option(\"versionAsOf\", 1).load(\"/tmp/delta-table\")\n",
    "df.show()\n",
    "df"
   ]
  },
  {
   "cell_type": "code",
   "execution_count": 55,
   "metadata": {},
   "outputs": [
    {
     "data": {
      "text/plain": [
       "DataFrame[]"
      ]
     },
     "execution_count": 55,
     "metadata": {},
     "output_type": "execute_result"
    }
   ],
   "source": [
    "events = spark.read.json(\"/dataset/pleiades_jsonline\")\n",
    "events.write.format(\"delta\").save(\"/mnt/delta/events\")\n",
    "spark.sql(\"CREATE TABLE events USING DELTA LOCATION '/mnt/delta/events/'\")"
   ]
  },
  {
   "cell_type": "code",
   "execution_count": 74,
   "metadata": {},
   "outputs": [
    {
     "data": {
      "text/html": [
       "<div>\n",
       "<style scoped>\n",
       "    .dataframe tbody tr th:only-of-type {\n",
       "        vertical-align: middle;\n",
       "    }\n",
       "\n",
       "    .dataframe tbody tr th {\n",
       "        vertical-align: top;\n",
       "    }\n",
       "\n",
       "    .dataframe thead th {\n",
       "        text-align: right;\n",
       "    }\n",
       "</style>\n",
       "<table border=\"1\" class=\"dataframe\">\n",
       "  <thead>\n",
       "    <tr style=\"text-align: right;\">\n",
       "      <th></th>\n",
       "      <th>@type</th>\n",
       "      <th>bbox</th>\n",
       "      <th>connections</th>\n",
       "      <th>connectsWith</th>\n",
       "      <th>contributors</th>\n",
       "      <th>created</th>\n",
       "      <th>creators</th>\n",
       "      <th>description</th>\n",
       "      <th>details</th>\n",
       "      <th>features</th>\n",
       "      <th>...</th>\n",
       "      <th>placeTypes</th>\n",
       "      <th>provenance</th>\n",
       "      <th>references</th>\n",
       "      <th>reprPoint</th>\n",
       "      <th>review_state</th>\n",
       "      <th>rights</th>\n",
       "      <th>subject</th>\n",
       "      <th>title</th>\n",
       "      <th>type</th>\n",
       "      <th>uri</th>\n",
       "    </tr>\n",
       "  </thead>\n",
       "  <tbody>\n",
       "    <tr>\n",
       "      <td>0</td>\n",
       "      <td>Place</td>\n",
       "      <td>[45.318178, 31.589977, 45.318178, 31.589977]</td>\n",
       "      <td>[]</td>\n",
       "      <td>[]</td>\n",
       "      <td>[(None, P. Flensted Jensen, None, None), (None...</td>\n",
       "      <td>2010-10-05 16:24:11</td>\n",
       "      <td>[(None, A. Hausleiter, None, None), (None, M. ...</td>\n",
       "      <td>An ancient place, cited: BAtlas 93 B2 Tulul al...</td>\n",
       "      <td>The Barrington Atlas Directory notes: Tulul al...</td>\n",
       "      <td>[((['45.318178', '31.589977'], Point), darmc-l...</td>\n",
       "      <td>...</td>\n",
       "      <td>[settlement]</td>\n",
       "      <td>Barrington Atlas: BAtlas 93 B2 Tulul al-Ajjaz</td>\n",
       "      <td>[(, , http://openlibrary.org/works/OL8327792W,...</td>\n",
       "      <td>[45.318178, 31.589977]</td>\n",
       "      <td>published</td>\n",
       "      <td>Copyright © The Contributors. Sharing and remi...</td>\n",
       "      <td>[dare:major=0, dare:feature=settlement, dare:a...</td>\n",
       "      <td>Tulul al-Ajjaz</td>\n",
       "      <td>FeatureCollection</td>\n",
       "      <td>https://pleiades.stoa.org/places/912967</td>\n",
       "    </tr>\n",
       "    <tr>\n",
       "      <td>1</td>\n",
       "      <td>Place</td>\n",
       "      <td>[45.434197, 31.656518, 45.434197, 31.656518]</td>\n",
       "      <td>[]</td>\n",
       "      <td>[]</td>\n",
       "      <td>[(None, P. Flensted Jensen, None, None), (None...</td>\n",
       "      <td>2010-10-05 16:24:13</td>\n",
       "      <td>[(None, A. Hausleiter, None, None), (None, M. ...</td>\n",
       "      <td>An ancient place, cited: BAtlas 93 B2 Tulul Je...</td>\n",
       "      <td>The Barrington Atlas Directory notes: Tulul Je...</td>\n",
       "      <td>[((['45.434197', '31.656518'], Point), darmc-l...</td>\n",
       "      <td>...</td>\n",
       "      <td>[settlement]</td>\n",
       "      <td>Barrington Atlas: BAtlas 93 B2 Tulul Jezzaz</td>\n",
       "      <td>[(, , http://openlibrary.org/works/OL8327792W,...</td>\n",
       "      <td>[45.434197, 31.656518]</td>\n",
       "      <td>published</td>\n",
       "      <td>Copyright © The Contributors. Sharing and remi...</td>\n",
       "      <td>[dare:major=0, dare:feature=settlement, dare:a...</td>\n",
       "      <td>Tulul Jezzaz</td>\n",
       "      <td>FeatureCollection</td>\n",
       "      <td>https://pleiades.stoa.org/places/912968</td>\n",
       "    </tr>\n",
       "    <tr>\n",
       "      <td>2</td>\n",
       "      <td>Place</td>\n",
       "      <td>[45.553629, 31.723911, 45.553629, 31.723911]</td>\n",
       "      <td>[]</td>\n",
       "      <td>[]</td>\n",
       "      <td>[(None, DARMC, None, None), (None, R. Talbert,...</td>\n",
       "      <td>2010-10-05 16:24:14</td>\n",
       "      <td>[(None, A. Hausleiter, None, None), (None, M. ...</td>\n",
       "      <td>An ancient place, cited: BAtlas 93 B2 U045</td>\n",
       "      <td>The Barrington Atlas Directory notes: U045, IRQ</td>\n",
       "      <td>[((['45.553629', '31.723911'], Point), darmc-l...</td>\n",
       "      <td>...</td>\n",
       "      <td>[settlement]</td>\n",
       "      <td>Barrington Atlas: BAtlas 93 B2 U045</td>\n",
       "      <td>[(, , http://openlibrary.org/works/OL8327792W,...</td>\n",
       "      <td>[45.553629, 31.723911]</td>\n",
       "      <td>published</td>\n",
       "      <td>Copyright © The Contributors. Sharing and remi...</td>\n",
       "      <td>[dare:major=0, dare:feature=settlement, dare:a...</td>\n",
       "      <td>U045</td>\n",
       "      <td>FeatureCollection</td>\n",
       "      <td>https://pleiades.stoa.org/places/912970</td>\n",
       "    </tr>\n",
       "    <tr>\n",
       "      <td>3</td>\n",
       "      <td>Place</td>\n",
       "      <td>[45.650027, 31.676139, 45.650027, 31.676139]</td>\n",
       "      <td>[]</td>\n",
       "      <td>[]</td>\n",
       "      <td>[(None, DARMC, None, None), (None, R. Talbert,...</td>\n",
       "      <td>2010-10-05 16:24:15</td>\n",
       "      <td>[(None, A. Hausleiter, None, None), (None, M. ...</td>\n",
       "      <td>An ancient place, cited: BAtlas 93 B2 U082</td>\n",
       "      <td>The Barrington Atlas Directory notes: U082, pa...</td>\n",
       "      <td>[((['45.650027', '31.676139'], Point), darmc-l...</td>\n",
       "      <td>...</td>\n",
       "      <td>[settlement]</td>\n",
       "      <td>Barrington Atlas: BAtlas 93 B2 U082</td>\n",
       "      <td>[(, , http://openlibrary.org/works/OL8327792W,...</td>\n",
       "      <td>[45.650027, 31.676139]</td>\n",
       "      <td>published</td>\n",
       "      <td>Copyright © The Contributors. Sharing and remi...</td>\n",
       "      <td>[dare:major=0, dare:feature=settlement, dare:a...</td>\n",
       "      <td>U082</td>\n",
       "      <td>FeatureCollection</td>\n",
       "      <td>https://pleiades.stoa.org/places/912971</td>\n",
       "    </tr>\n",
       "    <tr>\n",
       "      <td>4</td>\n",
       "      <td>Place</td>\n",
       "      <td>[45.70778, 31.632631, 45.70778, 31.632631]</td>\n",
       "      <td>[]</td>\n",
       "      <td>[]</td>\n",
       "      <td>[(None, P. Flensted Jensen, None, None), (None...</td>\n",
       "      <td>2010-10-05 16:24:17</td>\n",
       "      <td>[(None, A. Hausleiter, None, None), (None, M. ...</td>\n",
       "      <td>An ancient place, cited: BAtlas 93 B2 U092</td>\n",
       "      <td>The Barrington Atlas Directory notes: U092, pa...</td>\n",
       "      <td>[((['45.70778', '31.632631'], Point), darmc-lo...</td>\n",
       "      <td>...</td>\n",
       "      <td>[settlement]</td>\n",
       "      <td>Barrington Atlas: BAtlas 93 B2 U092</td>\n",
       "      <td>[(, , http://openlibrary.org/works/OL8327792W,...</td>\n",
       "      <td>[45.70778, 31.632631]</td>\n",
       "      <td>published</td>\n",
       "      <td>Copyright © The Contributors. Sharing and remi...</td>\n",
       "      <td>[dare:major=0, dare:feature=settlement, dare:a...</td>\n",
       "      <td>U092</td>\n",
       "      <td>FeatureCollection</td>\n",
       "      <td>https://pleiades.stoa.org/places/912972</td>\n",
       "    </tr>\n",
       "    <tr>\n",
       "      <td>...</td>\n",
       "      <td>...</td>\n",
       "      <td>...</td>\n",
       "      <td>...</td>\n",
       "      <td>...</td>\n",
       "      <td>...</td>\n",
       "      <td>...</td>\n",
       "      <td>...</td>\n",
       "      <td>...</td>\n",
       "      <td>...</td>\n",
       "      <td>...</td>\n",
       "      <td>...</td>\n",
       "      <td>...</td>\n",
       "      <td>...</td>\n",
       "      <td>...</td>\n",
       "      <td>...</td>\n",
       "      <td>...</td>\n",
       "      <td>...</td>\n",
       "      <td>...</td>\n",
       "      <td>...</td>\n",
       "      <td>...</td>\n",
       "      <td>...</td>\n",
       "    </tr>\n",
       "    <tr>\n",
       "      <td>37146</td>\n",
       "      <td>Place</td>\n",
       "      <td>[-2.985153, 51.357425, -2.985153, 51.357425]</td>\n",
       "      <td>[]</td>\n",
       "      <td>[]</td>\n",
       "      <td>[]</td>\n",
       "      <td>2013-09-01 00:42:46</td>\n",
       "      <td>[(None, Jeffrey Becker, https://pleiades.stoa....</td>\n",
       "      <td>Worlebury Camp is the site of an Iron Age hill...</td>\n",
       "      <td></td>\n",
       "      <td>[((['-2.985153', '51.357425'], Point), locatio...</td>\n",
       "      <td>...</td>\n",
       "      <td>[fort]</td>\n",
       "      <td>Pleiades</td>\n",
       "      <td>[(https://en.wikipedia.org/wiki/Worlebury_Camp...</td>\n",
       "      <td>[-2.985153, 51.357425]</td>\n",
       "      <td>published</td>\n",
       "      <td>Copyright © The Contributors. Sharing and remi...</td>\n",
       "      <td>[]</td>\n",
       "      <td>Worlebury Camp</td>\n",
       "      <td>FeatureCollection</td>\n",
       "      <td>https://pleiades.stoa.org/places/893850615</td>\n",
       "    </tr>\n",
       "    <tr>\n",
       "      <td>37147</td>\n",
       "      <td>Place</td>\n",
       "      <td>[13.412317, 42.077222, 13.412317, 42.077222]</td>\n",
       "      <td>[(Connection, certain, [], [\"at\"], https://ple...</td>\n",
       "      <td>[https://pleiades.stoa.org/places/413005]</td>\n",
       "      <td>[]</td>\n",
       "      <td>2016-11-04 11:36:59</td>\n",
       "      <td>[(None, Jeffrey Becker, https://pleiades.stoa....</td>\n",
       "      <td>A first century A.D. amphitheater at Alba Fuce...</td>\n",
       "      <td>&lt;p&gt;The amphitheater dates to the reign of the ...</td>\n",
       "      <td>[((['13.412317', '42.077222'], Point), amphith...</td>\n",
       "      <td>...</td>\n",
       "      <td>[amphitheatre]</td>\n",
       "      <td>Pleiades</td>\n",
       "      <td>[(https://en.wikipedia.org/wiki/Alba_Fucens, ,...</td>\n",
       "      <td>[13.412317, 42.077222]</td>\n",
       "      <td>published</td>\n",
       "      <td>Copyright © The Contributors. Sharing and remi...</td>\n",
       "      <td>[extant remains, amphitheater, polygonal masonry]</td>\n",
       "      <td>Amphitheater of Alba Fucens</td>\n",
       "      <td>FeatureCollection</td>\n",
       "      <td>https://pleiades.stoa.org/places/535296216</td>\n",
       "    </tr>\n",
       "    <tr>\n",
       "      <td>37148</td>\n",
       "      <td>Place</td>\n",
       "      <td>[22.8921792, 37.9096749, 22.8921792, 37.9096749]</td>\n",
       "      <td>[(Connection, certain, [], [\"at\"], https://ple...</td>\n",
       "      <td>[https://pleiades.stoa.org/places/570182]</td>\n",
       "      <td>[]</td>\n",
       "      <td>2020-02-17 11:36:51</td>\n",
       "      <td>[(None, Jeffrey Becker, https://pleiades.stoa....</td>\n",
       "      <td>The small Roman amphitheater at Corinth was lo...</td>\n",
       "      <td></td>\n",
       "      <td>[((['22.8921792', '37.9096749'], Point), osm-l...</td>\n",
       "      <td>...</td>\n",
       "      <td>[amphitheatre]</td>\n",
       "      <td>Pleiades</td>\n",
       "      <td>[(http://corinth.ascsa.net/id/corinth/monument...</td>\n",
       "      <td>[22.8921792, 37.9096749]</td>\n",
       "      <td>published</td>\n",
       "      <td>Copyright © The Contributors. Sharing and remi...</td>\n",
       "      <td>[extant remains, amphitheater]</td>\n",
       "      <td>Corinth Roman Amphitheater</td>\n",
       "      <td>FeatureCollection</td>\n",
       "      <td>https://pleiades.stoa.org/places/233061794</td>\n",
       "    </tr>\n",
       "    <tr>\n",
       "      <td>37149</td>\n",
       "      <td>Place</td>\n",
       "      <td>None</td>\n",
       "      <td>[(Connection, certain, [Row(confidence='confid...</td>\n",
       "      <td>[https://pleiades.stoa.org/places/971691208, h...</td>\n",
       "      <td>[]</td>\n",
       "      <td>2016-11-06 16:44:00</td>\n",
       "      <td>[(None, Jeffrey Becker, https://pleiades.stoa....</td>\n",
       "      <td>The house of the Roman statesman and orator M....</td>\n",
       "      <td></td>\n",
       "      <td>[]</td>\n",
       "      <td>...</td>\n",
       "      <td>[townhouse]</td>\n",
       "      <td>Pleiades</td>\n",
       "      <td>[(http://www.jstor.org/stable/1561882, , https...</td>\n",
       "      <td>None</td>\n",
       "      <td>published</td>\n",
       "      <td>Copyright © The Contributors. Sharing and remi...</td>\n",
       "      <td>[]</td>\n",
       "      <td>Domus, M. Tullius Cicero</td>\n",
       "      <td>FeatureCollection</td>\n",
       "      <td>https://pleiades.stoa.org/places/233061795</td>\n",
       "    </tr>\n",
       "    <tr>\n",
       "      <td>37150</td>\n",
       "      <td>Place</td>\n",
       "      <td>[-7.6859672, 42.9800949, -7.6859672, 42.9800949]</td>\n",
       "      <td>[]</td>\n",
       "      <td>[]</td>\n",
       "      <td>[(None, Tom Elliott, https://pleiades.stoa.org...</td>\n",
       "      <td>2014-01-12 22:47:37</td>\n",
       "      <td>[(None, Jeffrey Becker, https://pleiades.stoa....</td>\n",
       "      <td>The Roman sanctuary of Santalla de Bóveda date...</td>\n",
       "      <td></td>\n",
       "      <td>[((['-7.6859672', '42.9800949'], Point), locat...</td>\n",
       "      <td>...</td>\n",
       "      <td>[temple-2]</td>\n",
       "      <td>Pleiades</td>\n",
       "      <td>[(https://gl.wikipedia.org/wiki/Templo_de_Sant...</td>\n",
       "      <td>[-7.6859672, 42.9800949]</td>\n",
       "      <td>published</td>\n",
       "      <td>Copyright © The Contributors. Sharing and remi...</td>\n",
       "      <td>[]</td>\n",
       "      <td>Santalla de Bóveda</td>\n",
       "      <td>FeatureCollection</td>\n",
       "      <td>https://pleiades.stoa.org/places/743134062</td>\n",
       "    </tr>\n",
       "  </tbody>\n",
       "</table>\n",
       "<p>37151 rows × 25 columns</p>\n",
       "</div>"
      ],
      "text/plain": [
       "       @type                                              bbox  \\\n",
       "0      Place      [45.318178, 31.589977, 45.318178, 31.589977]   \n",
       "1      Place      [45.434197, 31.656518, 45.434197, 31.656518]   \n",
       "2      Place      [45.553629, 31.723911, 45.553629, 31.723911]   \n",
       "3      Place      [45.650027, 31.676139, 45.650027, 31.676139]   \n",
       "4      Place        [45.70778, 31.632631, 45.70778, 31.632631]   \n",
       "...      ...                                               ...   \n",
       "37146  Place      [-2.985153, 51.357425, -2.985153, 51.357425]   \n",
       "37147  Place      [13.412317, 42.077222, 13.412317, 42.077222]   \n",
       "37148  Place  [22.8921792, 37.9096749, 22.8921792, 37.9096749]   \n",
       "37149  Place                                              None   \n",
       "37150  Place  [-7.6859672, 42.9800949, -7.6859672, 42.9800949]   \n",
       "\n",
       "                                             connections  \\\n",
       "0                                                     []   \n",
       "1                                                     []   \n",
       "2                                                     []   \n",
       "3                                                     []   \n",
       "4                                                     []   \n",
       "...                                                  ...   \n",
       "37146                                                 []   \n",
       "37147  [(Connection, certain, [], [\"at\"], https://ple...   \n",
       "37148  [(Connection, certain, [], [\"at\"], https://ple...   \n",
       "37149  [(Connection, certain, [Row(confidence='confid...   \n",
       "37150                                                 []   \n",
       "\n",
       "                                            connectsWith  \\\n",
       "0                                                     []   \n",
       "1                                                     []   \n",
       "2                                                     []   \n",
       "3                                                     []   \n",
       "4                                                     []   \n",
       "...                                                  ...   \n",
       "37146                                                 []   \n",
       "37147          [https://pleiades.stoa.org/places/413005]   \n",
       "37148          [https://pleiades.stoa.org/places/570182]   \n",
       "37149  [https://pleiades.stoa.org/places/971691208, h...   \n",
       "37150                                                 []   \n",
       "\n",
       "                                            contributors             created  \\\n",
       "0      [(None, P. Flensted Jensen, None, None), (None... 2010-10-05 16:24:11   \n",
       "1      [(None, P. Flensted Jensen, None, None), (None... 2010-10-05 16:24:13   \n",
       "2      [(None, DARMC, None, None), (None, R. Talbert,... 2010-10-05 16:24:14   \n",
       "3      [(None, DARMC, None, None), (None, R. Talbert,... 2010-10-05 16:24:15   \n",
       "4      [(None, P. Flensted Jensen, None, None), (None... 2010-10-05 16:24:17   \n",
       "...                                                  ...                 ...   \n",
       "37146                                                 [] 2013-09-01 00:42:46   \n",
       "37147                                                 [] 2016-11-04 11:36:59   \n",
       "37148                                                 [] 2020-02-17 11:36:51   \n",
       "37149                                                 [] 2016-11-06 16:44:00   \n",
       "37150  [(None, Tom Elliott, https://pleiades.stoa.org... 2014-01-12 22:47:37   \n",
       "\n",
       "                                                creators  \\\n",
       "0      [(None, A. Hausleiter, None, None), (None, M. ...   \n",
       "1      [(None, A. Hausleiter, None, None), (None, M. ...   \n",
       "2      [(None, A. Hausleiter, None, None), (None, M. ...   \n",
       "3      [(None, A. Hausleiter, None, None), (None, M. ...   \n",
       "4      [(None, A. Hausleiter, None, None), (None, M. ...   \n",
       "...                                                  ...   \n",
       "37146  [(None, Jeffrey Becker, https://pleiades.stoa....   \n",
       "37147  [(None, Jeffrey Becker, https://pleiades.stoa....   \n",
       "37148  [(None, Jeffrey Becker, https://pleiades.stoa....   \n",
       "37149  [(None, Jeffrey Becker, https://pleiades.stoa....   \n",
       "37150  [(None, Jeffrey Becker, https://pleiades.stoa....   \n",
       "\n",
       "                                             description  \\\n",
       "0      An ancient place, cited: BAtlas 93 B2 Tulul al...   \n",
       "1      An ancient place, cited: BAtlas 93 B2 Tulul Je...   \n",
       "2             An ancient place, cited: BAtlas 93 B2 U045   \n",
       "3             An ancient place, cited: BAtlas 93 B2 U082   \n",
       "4             An ancient place, cited: BAtlas 93 B2 U092   \n",
       "...                                                  ...   \n",
       "37146  Worlebury Camp is the site of an Iron Age hill...   \n",
       "37147  A first century A.D. amphitheater at Alba Fuce...   \n",
       "37148  The small Roman amphitheater at Corinth was lo...   \n",
       "37149  The house of the Roman statesman and orator M....   \n",
       "37150  The Roman sanctuary of Santalla de Bóveda date...   \n",
       "\n",
       "                                                 details  \\\n",
       "0      The Barrington Atlas Directory notes: Tulul al...   \n",
       "1      The Barrington Atlas Directory notes: Tulul Je...   \n",
       "2        The Barrington Atlas Directory notes: U045, IRQ   \n",
       "3      The Barrington Atlas Directory notes: U082, pa...   \n",
       "4      The Barrington Atlas Directory notes: U092, pa...   \n",
       "...                                                  ...   \n",
       "37146                                                      \n",
       "37147  <p>The amphitheater dates to the reign of the ...   \n",
       "37148                                                      \n",
       "37149                                                      \n",
       "37150                                                      \n",
       "\n",
       "                                                features  ...      placeTypes  \\\n",
       "0      [((['45.318178', '31.589977'], Point), darmc-l...  ...    [settlement]   \n",
       "1      [((['45.434197', '31.656518'], Point), darmc-l...  ...    [settlement]   \n",
       "2      [((['45.553629', '31.723911'], Point), darmc-l...  ...    [settlement]   \n",
       "3      [((['45.650027', '31.676139'], Point), darmc-l...  ...    [settlement]   \n",
       "4      [((['45.70778', '31.632631'], Point), darmc-lo...  ...    [settlement]   \n",
       "...                                                  ...  ...             ...   \n",
       "37146  [((['-2.985153', '51.357425'], Point), locatio...  ...          [fort]   \n",
       "37147  [((['13.412317', '42.077222'], Point), amphith...  ...  [amphitheatre]   \n",
       "37148  [((['22.8921792', '37.9096749'], Point), osm-l...  ...  [amphitheatre]   \n",
       "37149                                                 []  ...     [townhouse]   \n",
       "37150  [((['-7.6859672', '42.9800949'], Point), locat...  ...      [temple-2]   \n",
       "\n",
       "                                          provenance  \\\n",
       "0      Barrington Atlas: BAtlas 93 B2 Tulul al-Ajjaz   \n",
       "1        Barrington Atlas: BAtlas 93 B2 Tulul Jezzaz   \n",
       "2                Barrington Atlas: BAtlas 93 B2 U045   \n",
       "3                Barrington Atlas: BAtlas 93 B2 U082   \n",
       "4                Barrington Atlas: BAtlas 93 B2 U092   \n",
       "...                                              ...   \n",
       "37146                                       Pleiades   \n",
       "37147                                       Pleiades   \n",
       "37148                                       Pleiades   \n",
       "37149                                       Pleiades   \n",
       "37150                                       Pleiades   \n",
       "\n",
       "                                              references  \\\n",
       "0      [(, , http://openlibrary.org/works/OL8327792W,...   \n",
       "1      [(, , http://openlibrary.org/works/OL8327792W,...   \n",
       "2      [(, , http://openlibrary.org/works/OL8327792W,...   \n",
       "3      [(, , http://openlibrary.org/works/OL8327792W,...   \n",
       "4      [(, , http://openlibrary.org/works/OL8327792W,...   \n",
       "...                                                  ...   \n",
       "37146  [(https://en.wikipedia.org/wiki/Worlebury_Camp...   \n",
       "37147  [(https://en.wikipedia.org/wiki/Alba_Fucens, ,...   \n",
       "37148  [(http://corinth.ascsa.net/id/corinth/monument...   \n",
       "37149  [(http://www.jstor.org/stable/1561882, , https...   \n",
       "37150  [(https://gl.wikipedia.org/wiki/Templo_de_Sant...   \n",
       "\n",
       "                      reprPoint review_state  \\\n",
       "0        [45.318178, 31.589977]    published   \n",
       "1        [45.434197, 31.656518]    published   \n",
       "2        [45.553629, 31.723911]    published   \n",
       "3        [45.650027, 31.676139]    published   \n",
       "4         [45.70778, 31.632631]    published   \n",
       "...                         ...          ...   \n",
       "37146    [-2.985153, 51.357425]    published   \n",
       "37147    [13.412317, 42.077222]    published   \n",
       "37148  [22.8921792, 37.9096749]    published   \n",
       "37149                      None    published   \n",
       "37150  [-7.6859672, 42.9800949]    published   \n",
       "\n",
       "                                                  rights  \\\n",
       "0      Copyright © The Contributors. Sharing and remi...   \n",
       "1      Copyright © The Contributors. Sharing and remi...   \n",
       "2      Copyright © The Contributors. Sharing and remi...   \n",
       "3      Copyright © The Contributors. Sharing and remi...   \n",
       "4      Copyright © The Contributors. Sharing and remi...   \n",
       "...                                                  ...   \n",
       "37146  Copyright © The Contributors. Sharing and remi...   \n",
       "37147  Copyright © The Contributors. Sharing and remi...   \n",
       "37148  Copyright © The Contributors. Sharing and remi...   \n",
       "37149  Copyright © The Contributors. Sharing and remi...   \n",
       "37150  Copyright © The Contributors. Sharing and remi...   \n",
       "\n",
       "                                                 subject  \\\n",
       "0      [dare:major=0, dare:feature=settlement, dare:a...   \n",
       "1      [dare:major=0, dare:feature=settlement, dare:a...   \n",
       "2      [dare:major=0, dare:feature=settlement, dare:a...   \n",
       "3      [dare:major=0, dare:feature=settlement, dare:a...   \n",
       "4      [dare:major=0, dare:feature=settlement, dare:a...   \n",
       "...                                                  ...   \n",
       "37146                                                 []   \n",
       "37147  [extant remains, amphitheater, polygonal masonry]   \n",
       "37148                     [extant remains, amphitheater]   \n",
       "37149                                                 []   \n",
       "37150                                                 []   \n",
       "\n",
       "                             title               type  \\\n",
       "0                   Tulul al-Ajjaz  FeatureCollection   \n",
       "1                     Tulul Jezzaz  FeatureCollection   \n",
       "2                             U045  FeatureCollection   \n",
       "3                             U082  FeatureCollection   \n",
       "4                             U092  FeatureCollection   \n",
       "...                            ...                ...   \n",
       "37146               Worlebury Camp  FeatureCollection   \n",
       "37147  Amphitheater of Alba Fucens  FeatureCollection   \n",
       "37148   Corinth Roman Amphitheater  FeatureCollection   \n",
       "37149     Domus, M. Tullius Cicero  FeatureCollection   \n",
       "37150           Santalla de Bóveda  FeatureCollection   \n",
       "\n",
       "                                              uri  \n",
       "0         https://pleiades.stoa.org/places/912967  \n",
       "1         https://pleiades.stoa.org/places/912968  \n",
       "2         https://pleiades.stoa.org/places/912970  \n",
       "3         https://pleiades.stoa.org/places/912971  \n",
       "4         https://pleiades.stoa.org/places/912972  \n",
       "...                                           ...  \n",
       "37146  https://pleiades.stoa.org/places/893850615  \n",
       "37147  https://pleiades.stoa.org/places/535296216  \n",
       "37148  https://pleiades.stoa.org/places/233061794  \n",
       "37149  https://pleiades.stoa.org/places/233061795  \n",
       "37150  https://pleiades.stoa.org/places/743134062  \n",
       "\n",
       "[37151 rows x 25 columns]"
      ]
     },
     "execution_count": 74,
     "metadata": {},
     "output_type": "execute_result"
    }
   ],
   "source": [
    "events_delta = spark.read.format(\"delta\").load(\"/mnt/delta/events/\")\n",
    "events_delta.toPandas()\n",
    "# spark.sql(\"SELECT connectsWith FROM events\")\n"
   ]
  },
  {
   "cell_type": "code",
   "execution_count": 3,
   "metadata": {},
   "outputs": [],
   "source": [
    "import json\n",
    "import os\n",
    "with open('./pleiades-errata.json','r', encoding=\"utf8\") as json_file, open('./pleiades_errata_jsonline', 'a') as f1:\n",
    "    f = json.load(json_file)\n",
    "    for json_place in f[\"@graph\"]:\n",
    "        f1.write(json.dumps(json_place) + \"\\n\")"
   ]
  },
  {
   "cell_type": "code",
   "execution_count": 10,
   "metadata": {},
   "outputs": [
    {
     "data": {
      "text/plain": [
       "{'features': [{'geometry': {'type': 'Polygon',\n",
       "    'coordinates': [[[3.0, 45.0],\n",
       "      [3.0, 49.0],\n",
       "      [9.0, 49.0],\n",
       "      [9.0, 45.0],\n",
       "      [3.0, 45.0]]]},\n",
       "   'type': 'Feature',\n",
       "   'id': 'batlas-location',\n",
       "   'properties': {'snippet': 'Unknown',\n",
       "    'link': 'https://pleiades.stoa.org/errata/180467/batlas-location',\n",
       "    'description': 'Roughly located within a bounding box',\n",
       "    'location_precision': 'rough',\n",
       "    'title': 'Barrington Atlas location'}}],\n",
       " 'contributors': [{'username': None, 'name': 'R. Talbert'},\n",
       "  {'username': 'sgillies',\n",
       "   'homepage': None,\n",
       "   'name': 'Sean Gillies',\n",
       "   'uri': 'https://pleiades.stoa.org/author/sgillies'},\n",
       "  {'username': 'thomase',\n",
       "   'homepage': None,\n",
       "   'name': 'Tom Elliott',\n",
       "   'uri': 'https://pleiades.stoa.org/author/thomase'}],\n",
       " 'locations': [{'contributors': [{'username': None, 'name': 'R. Talbert'},\n",
       "    {'username': None, 'name': 'T. Elliott'},\n",
       "    {'username': 'sgillies',\n",
       "     'homepage': None,\n",
       "     'name': 'Sean Gillies',\n",
       "     'uri': 'https://pleiades.stoa.org/author/sgillies'}],\n",
       "   'associationCertainty': 'certain',\n",
       "   'attestations': [],\n",
       "   'references': [],\n",
       "   'id': 'batlas-location',\n",
       "   'featureTypeURI': ['https://pleiades.stoa.org/vocabularies/place-types/unknown'],\n",
       "   'end': None,\n",
       "   'title': 'Barrington Atlas location',\n",
       "   'provenance': 'Barrington Atlas: BAtlas 18',\n",
       "   'associationCertaintyURI': 'https://pleiades.stoa.org/vocabularies/association-certainty/certain',\n",
       "   'start': None,\n",
       "   'locationTypeURI': ['https://pleiades.stoa.org/vocabularies/place-types/unknown'],\n",
       "   'archaeologicalRemains': 'unknown',\n",
       "   'details': '',\n",
       "   'review_state': 'published',\n",
       "   'accuracy_value': None,\n",
       "   'accuracy': None,\n",
       "   'featureType': ['unknown'],\n",
       "   'description': 'Roughly located within a bounding box',\n",
       "   'created': '2010-06-23T12:39:32Z',\n",
       "   'geometry': {'type': 'Polygon',\n",
       "    'coordinates': [[[3.0, 45.0],\n",
       "      [3.0, 49.0],\n",
       "      [9.0, 49.0],\n",
       "      [9.0, 45.0],\n",
       "      [3.0, 45.0]]]},\n",
       "   'locationType': ['representative'],\n",
       "   'uri': 'https://pleiades.stoa.org/errata/180467/batlas-location',\n",
       "   'creators': [{'username': None, 'name': 'G.D. Woolf'}],\n",
       "   '@type': 'Location',\n",
       "   'history': []}],\n",
       " 'connections': [],\n",
       " 'references': [{'alternateURI': '',\n",
       "   'accessURI': '',\n",
       "   'citationDetail': '',\n",
       "   'citationTypeURI': 'https://pleiades.stoa.org/vocabularies/feature-type/seeFurther',\n",
       "   'shortTitle': '',\n",
       "   'bibliographicURI': 'http://openlibrary.org/works/OL8327792W',\n",
       "   'formattedCitation': 'BAtlas 18',\n",
       "   'otherIdentifier': ' ',\n",
       "   'type': 'seeFurther'}],\n",
       " 'names': [],\n",
       " 'id': '180467',\n",
       " 'subject': [],\n",
       " 'title': 'Withdrawn: Untitled',\n",
       " 'provenance': 'Barrington Atlas: BAtlas 18',\n",
       " 'placeTypeURIs': ['https://pleiades.stoa.org/vocabularies/place-types/road'],\n",
       " 'details': 'The Barrington Atlas Directory notes: (minor)',\n",
       " 'review_state': 'published',\n",
       " 'type': 'FeatureCollection',\n",
       " 'description': 'This place resource has been withdrawn because it was created and published due to a technical error. ',\n",
       " 'reprPoint': [6.0, 47.0],\n",
       " 'placeTypes': ['road'],\n",
       " 'bbox': [3.0, 45.0, 9.0, 49.0],\n",
       " 'connectsWith': [],\n",
       " 'rights': 'Copyright © The Creators. Sharing and remixing permitted under terms of the Creative Commons Attribution 3.0 License (cc-by).',\n",
       " 'created': '2010-06-23T12:39:31Z',\n",
       " 'uri': 'https://pleiades.stoa.org/errata/180467',\n",
       " 'creators': [{'username': None, 'name': 'G.D. Woolf'}],\n",
       " '@type': 'Place',\n",
       " 'history': []}"
      ]
     },
     "execution_count": 10,
     "metadata": {},
     "output_type": "execute_result"
    }
   ],
   "source": [
    "f[\"@graph\"][]"
   ]
  },
  {
   "cell_type": "code",
   "execution_count": 37,
   "metadata": {},
   "outputs": [],
   "source": [
    "import os\n",
    "\n",
    "with open('./output.json', 'a') as f1:\n",
    "    f1.write(json.dumps(f[\"@graph\"][0]) + '\\n')"
   ]
  },
  {
   "cell_type": "code",
   "execution_count": 40,
   "metadata": {},
   "outputs": [
    {
     "name": "stdout",
     "output_type": "stream",
     "text": [
      "{'snippet': 'dcterms:abstract', 'rights': 'dcterms:rights', 'description': 'dcterms:description', 'title': 'dcterms:title', 'dcterms': 'http://purl.org/dc/terms/', 'subject': 'dcterms:subject', 'uri': '@id', 'created': 'dcterms:created'}\n"
     ]
    }
   ],
   "source": [
    "print(f[\"@context\"])"
   ]
  },
  {
   "cell_type": "code",
   "execution_count": 1,
   "metadata": {},
   "outputs": [],
   "source": [
    "from functools import reduce\n",
    "from pyspark.sql.functions import col, lit, when\n",
    "from graphframes import *"
   ]
  },
  {
   "cell_type": "code",
   "execution_count": 2,
   "metadata": {},
   "outputs": [],
   "source": [
    "vertices = sqlContext.createDataFrame([\n",
    "  (\"a\", \"Alice\", 34),\n",
    "  (\"b\", \"Bob\", 36),\n",
    "  (\"c\", \"Charlie\", 30),\n",
    "  (\"d\", \"David\", 29),\n",
    "  (\"e\", \"Esther\", 32),\n",
    "  (\"f\", \"Fanny\", 36),\n",
    "  (\"g\", \"Gabby\", 60)], [\"id\", \"name\", \"age\"])\n"
   ]
  },
  {
   "cell_type": "code",
   "execution_count": 3,
   "metadata": {},
   "outputs": [],
   "source": [
    "edges = sqlContext.createDataFrame([\n",
    "  (\"a\", \"b\", \"friend\"),\n",
    "  (\"b\", \"c\", \"follow\"),\n",
    "  (\"c\", \"b\", \"follow\"),\n",
    "  (\"f\", \"c\", \"follow\"),\n",
    "  (\"e\", \"f\", \"follow\"),\n",
    "  (\"e\", \"d\", \"friend\"),\n",
    "  (\"d\", \"a\", \"friend\"),\n",
    "  (\"a\", \"e\", \"friend\")\n",
    "], [\"src\", \"dst\", \"relationship\"])\n"
   ]
  },
  {
   "cell_type": "code",
   "execution_count": 4,
   "metadata": {},
   "outputs": [
    {
     "name": "stdout",
     "output_type": "stream",
     "text": [
      "GraphFrame(v:[id: string, name: string ... 1 more field], e:[src: string, dst: string ... 1 more field])\n"
     ]
    }
   ],
   "source": [
    "g = GraphFrame(vertices, edges)\n",
    "print(g)"
   ]
  },
  {
   "cell_type": "code",
   "execution_count": 5,
   "metadata": {},
   "outputs": [],
   "source": [
    "youngest = g.vertices.groupBy().min(\"age\")"
   ]
  },
  {
   "cell_type": "code",
   "execution_count": 9,
   "metadata": {},
   "outputs": [
    {
     "name": "stdout",
     "output_type": "stream",
     "text": [
      "+--------+\n",
      "|min(age)|\n",
      "+--------+\n",
      "|      29|\n",
      "+--------+\n",
      "\n"
     ]
    },
    {
     "data": {
      "text/plain": [
       "None"
      ]
     },
     "metadata": {},
     "output_type": "display_data"
    }
   ],
   "source": [
    "display(youngest.show())"
   ]
  },
  {
   "cell_type": "code",
   "execution_count": 12,
   "metadata": {},
   "outputs": [],
   "source": [
    "import pandas as pd\n",
    "df = pd.read_json(r'./pleiades_jsonline',lines=True)"
   ]
  },
  {
   "cell_type": "code",
   "execution_count": 13,
   "metadata": {},
   "outputs": [
    {
     "data": {
      "text/html": [
       "<div>\n",
       "<style scoped>\n",
       "    .dataframe tbody tr th:only-of-type {\n",
       "        vertical-align: middle;\n",
       "    }\n",
       "\n",
       "    .dataframe tbody tr th {\n",
       "        vertical-align: top;\n",
       "    }\n",
       "\n",
       "    .dataframe thead th {\n",
       "        text-align: right;\n",
       "    }\n",
       "</style>\n",
       "<table border=\"1\" class=\"dataframe\">\n",
       "  <thead>\n",
       "    <tr style=\"text-align: right;\">\n",
       "      <th></th>\n",
       "      <th>features</th>\n",
       "      <th>contributors</th>\n",
       "      <th>locations</th>\n",
       "      <th>connections</th>\n",
       "      <th>references</th>\n",
       "      <th>names</th>\n",
       "      <th>id</th>\n",
       "      <th>subject</th>\n",
       "      <th>title</th>\n",
       "      <th>provenance</th>\n",
       "      <th>...</th>\n",
       "      <th>reprPoint</th>\n",
       "      <th>placeTypes</th>\n",
       "      <th>bbox</th>\n",
       "      <th>connectsWith</th>\n",
       "      <th>rights</th>\n",
       "      <th>created</th>\n",
       "      <th>uri</th>\n",
       "      <th>creators</th>\n",
       "      <th>@type</th>\n",
       "      <th>history</th>\n",
       "    </tr>\n",
       "  </thead>\n",
       "  <tbody>\n",
       "    <tr>\n",
       "      <td>0</td>\n",
       "      <td>[{'geometry': {'type': 'Point', 'coordinates':...</td>\n",
       "      <td>[]</td>\n",
       "      <td>[{'contributors': [], 'associationCertainty': ...</td>\n",
       "      <td>[{'end': None, 'description': '', 'contributor...</td>\n",
       "      <td>[{'alternateURI': '', 'accessURI': 'https://it...</td>\n",
       "      <td>[]</td>\n",
       "      <td>48210385</td>\n",
       "      <td>[]</td>\n",
       "      <td>Borgo Medievale</td>\n",
       "      <td>Pleiades</td>\n",
       "      <td>...</td>\n",
       "      <td>[13.4119837, 42.082885]</td>\n",
       "      <td>[settlement]</td>\n",
       "      <td>[13.4119837, 42.082885, 13.4119837, 42.082885]</td>\n",
       "      <td>[https://pleiades.stoa.org/places/413005]</td>\n",
       "      <td>Copyright © The Contributors. Sharing and remi...</td>\n",
       "      <td>2016-11-04T16:36:09Z</td>\n",
       "      <td>https://pleiades.stoa.org/places/48210385</td>\n",
       "      <td>[{'username': 'jbecker', 'homepage': None, 'na...</td>\n",
       "      <td>Place</td>\n",
       "      <td>[{'comment': 'added reference', 'modifiedBy': ...</td>\n",
       "    </tr>\n",
       "    <tr>\n",
       "      <td>1</td>\n",
       "      <td>[{'geometry': {'type': 'Point', 'coordinates':...</td>\n",
       "      <td>[]</td>\n",
       "      <td>[{'contributors': [], 'associationCertainty': ...</td>\n",
       "      <td>[{'end': None, 'description': '', 'contributor...</td>\n",
       "      <td>[{'alternateURI': '', 'accessURI': 'https://bo...</td>\n",
       "      <td>[]</td>\n",
       "      <td>48210386</td>\n",
       "      <td>[sanctuary, extant remains, temple]</td>\n",
       "      <td>Tempio Grande at Vulci</td>\n",
       "      <td>Pleiades</td>\n",
       "      <td>...</td>\n",
       "      <td>[11.6285463, 42.4193742]</td>\n",
       "      <td>[temple-2]</td>\n",
       "      <td>[11.6285463, 42.4193742, 11.6285463, 42.4193742]</td>\n",
       "      <td>[https://pleiades.stoa.org/places/413393]</td>\n",
       "      <td>Copyright © The Contributors. Sharing and remi...</td>\n",
       "      <td>2016-11-04T16:39:09Z</td>\n",
       "      <td>https://pleiades.stoa.org/places/48210386</td>\n",
       "      <td>[{'username': 'jbecker', 'homepage': None, 'na...</td>\n",
       "      <td>Place</td>\n",
       "      <td>[{'comment': 'added reference', 'modifiedBy': ...</td>\n",
       "    </tr>\n",
       "    <tr>\n",
       "      <td>2</td>\n",
       "      <td>[{'geometry': {'type': 'Point', 'coordinates':...</td>\n",
       "      <td>[{'username': None, 'name': 'DARMC'}, {'userna...</td>\n",
       "      <td>[{'contributors': [{'username': None, 'name': ...</td>\n",
       "      <td>[]</td>\n",
       "      <td>[{'alternateURI': '', 'accessURI': '', 'citati...</td>\n",
       "      <td>[{'nameType': 'geographic', 'transcriptionAccu...</td>\n",
       "      <td>265876</td>\n",
       "      <td>[dare:ancient=1, dare:major=1, dare:feature=ma...</td>\n",
       "      <td>Consabura/Consabrum</td>\n",
       "      <td>Barrington Atlas: BAtlas 27 B2 Consabura/Consa...</td>\n",
       "      <td>...</td>\n",
       "      <td>[-3.606772, 39.460299]</td>\n",
       "      <td>[settlement]</td>\n",
       "      <td>[-3.606772, 39.460299, -3.606772, 39.460299]</td>\n",
       "      <td>[]</td>\n",
       "      <td>Copyright © The Contributors. Sharing and remi...</td>\n",
       "      <td>2010-09-24T19:02:22Z</td>\n",
       "      <td>https://pleiades.stoa.org/places/265876</td>\n",
       "      <td>[{'username': None, 'name': 'P.O. Spann'}]</td>\n",
       "      <td>Place</td>\n",
       "      <td>[{'comment': 'Baseline created', 'modifiedBy':...</td>\n",
       "    </tr>\n",
       "    <tr>\n",
       "      <td>3</td>\n",
       "      <td>[{'geometry': {'type': 'Polygon', 'coordinates...</td>\n",
       "      <td>[{'username': None, 'name': 'R. Warner'}, {'us...</td>\n",
       "      <td>[{'contributors': [{'username': None, 'name': ...</td>\n",
       "      <td>[]</td>\n",
       "      <td>[{'alternateURI': '', 'accessURI': '', 'citati...</td>\n",
       "      <td>[{'nameType': 'geographic', 'transcriptionAccu...</td>\n",
       "      <td>265877</td>\n",
       "      <td>[]</td>\n",
       "      <td>Contestania (region)</td>\n",
       "      <td>Barrington Atlas: BAtlas 27 D3 Contestania</td>\n",
       "      <td>...</td>\n",
       "      <td>[-0.515639, 38.988847]</td>\n",
       "      <td>[region]</td>\n",
       "      <td>[-0.515639, 38.988847, -0.515639, 38.988847]</td>\n",
       "      <td>[https://pleiades.stoa.org/places/266018]</td>\n",
       "      <td>Copyright © The Contributors. Sharing and remi...</td>\n",
       "      <td>2010-09-24T19:02:24Z</td>\n",
       "      <td>https://pleiades.stoa.org/places/265877</td>\n",
       "      <td>[{'username': None, 'name': 'P.O. Spann'}]</td>\n",
       "      <td>Place</td>\n",
       "      <td>[{'comment': 'title, summary', 'modifiedBy': '...</td>\n",
       "    </tr>\n",
       "    <tr>\n",
       "      <td>4</td>\n",
       "      <td>[{'geometry': {'type': 'Point', 'coordinates':...</td>\n",
       "      <td>[{'username': None, 'name': 'R. Warner'}, {'us...</td>\n",
       "      <td>[{'contributors': [{'username': None, 'name': ...</td>\n",
       "      <td>[]</td>\n",
       "      <td>[{'alternateURI': '', 'accessURI': '', 'citati...</td>\n",
       "      <td>[]</td>\n",
       "      <td>265878</td>\n",
       "      <td>[dare:major=0, copper, dare:feature=mine, dare...</td>\n",
       "      <td>Cueva de la Paloma</td>\n",
       "      <td>Barrington Atlas: BAtlas 27 C4 Cueva de la Paloma</td>\n",
       "      <td>...</td>\n",
       "      <td>[-2.403309, 37.241792]</td>\n",
       "      <td>[mine]</td>\n",
       "      <td>[-2.403309, 37.241792, -2.403309, 37.241792]</td>\n",
       "      <td>[]</td>\n",
       "      <td>Copyright © The Contributors. Sharing and remi...</td>\n",
       "      <td>2010-09-24T19:02:25Z</td>\n",
       "      <td>https://pleiades.stoa.org/places/265878</td>\n",
       "      <td>[{'username': None, 'name': 'P.O. Spann'}]</td>\n",
       "      <td>Place</td>\n",
       "      <td>[{'comment': 'Location updates and tags from J...</td>\n",
       "    </tr>\n",
       "  </tbody>\n",
       "</table>\n",
       "<p>5 rows × 25 columns</p>\n",
       "</div>"
      ],
      "text/plain": [
       "                                            features  \\\n",
       "0  [{'geometry': {'type': 'Point', 'coordinates':...   \n",
       "1  [{'geometry': {'type': 'Point', 'coordinates':...   \n",
       "2  [{'geometry': {'type': 'Point', 'coordinates':...   \n",
       "3  [{'geometry': {'type': 'Polygon', 'coordinates...   \n",
       "4  [{'geometry': {'type': 'Point', 'coordinates':...   \n",
       "\n",
       "                                        contributors  \\\n",
       "0                                                 []   \n",
       "1                                                 []   \n",
       "2  [{'username': None, 'name': 'DARMC'}, {'userna...   \n",
       "3  [{'username': None, 'name': 'R. Warner'}, {'us...   \n",
       "4  [{'username': None, 'name': 'R. Warner'}, {'us...   \n",
       "\n",
       "                                           locations  \\\n",
       "0  [{'contributors': [], 'associationCertainty': ...   \n",
       "1  [{'contributors': [], 'associationCertainty': ...   \n",
       "2  [{'contributors': [{'username': None, 'name': ...   \n",
       "3  [{'contributors': [{'username': None, 'name': ...   \n",
       "4  [{'contributors': [{'username': None, 'name': ...   \n",
       "\n",
       "                                         connections  \\\n",
       "0  [{'end': None, 'description': '', 'contributor...   \n",
       "1  [{'end': None, 'description': '', 'contributor...   \n",
       "2                                                 []   \n",
       "3                                                 []   \n",
       "4                                                 []   \n",
       "\n",
       "                                          references  \\\n",
       "0  [{'alternateURI': '', 'accessURI': 'https://it...   \n",
       "1  [{'alternateURI': '', 'accessURI': 'https://bo...   \n",
       "2  [{'alternateURI': '', 'accessURI': '', 'citati...   \n",
       "3  [{'alternateURI': '', 'accessURI': '', 'citati...   \n",
       "4  [{'alternateURI': '', 'accessURI': '', 'citati...   \n",
       "\n",
       "                                               names        id  \\\n",
       "0                                                 []  48210385   \n",
       "1                                                 []  48210386   \n",
       "2  [{'nameType': 'geographic', 'transcriptionAccu...    265876   \n",
       "3  [{'nameType': 'geographic', 'transcriptionAccu...    265877   \n",
       "4                                                 []    265878   \n",
       "\n",
       "                                             subject                   title  \\\n",
       "0                                                 []         Borgo Medievale   \n",
       "1                [sanctuary, extant remains, temple]  Tempio Grande at Vulci   \n",
       "2  [dare:ancient=1, dare:major=1, dare:feature=ma...     Consabura/Consabrum   \n",
       "3                                                 []    Contestania (region)   \n",
       "4  [dare:major=0, copper, dare:feature=mine, dare...      Cueva de la Paloma   \n",
       "\n",
       "                                          provenance  ...  \\\n",
       "0                                           Pleiades  ...   \n",
       "1                                           Pleiades  ...   \n",
       "2  Barrington Atlas: BAtlas 27 B2 Consabura/Consa...  ...   \n",
       "3         Barrington Atlas: BAtlas 27 D3 Contestania  ...   \n",
       "4  Barrington Atlas: BAtlas 27 C4 Cueva de la Paloma  ...   \n",
       "\n",
       "                  reprPoint    placeTypes  \\\n",
       "0   [13.4119837, 42.082885]  [settlement]   \n",
       "1  [11.6285463, 42.4193742]    [temple-2]   \n",
       "2    [-3.606772, 39.460299]  [settlement]   \n",
       "3    [-0.515639, 38.988847]      [region]   \n",
       "4    [-2.403309, 37.241792]        [mine]   \n",
       "\n",
       "                                               bbox  \\\n",
       "0    [13.4119837, 42.082885, 13.4119837, 42.082885]   \n",
       "1  [11.6285463, 42.4193742, 11.6285463, 42.4193742]   \n",
       "2      [-3.606772, 39.460299, -3.606772, 39.460299]   \n",
       "3      [-0.515639, 38.988847, -0.515639, 38.988847]   \n",
       "4      [-2.403309, 37.241792, -2.403309, 37.241792]   \n",
       "\n",
       "                                connectsWith  \\\n",
       "0  [https://pleiades.stoa.org/places/413005]   \n",
       "1  [https://pleiades.stoa.org/places/413393]   \n",
       "2                                         []   \n",
       "3  [https://pleiades.stoa.org/places/266018]   \n",
       "4                                         []   \n",
       "\n",
       "                                              rights               created  \\\n",
       "0  Copyright © The Contributors. Sharing and remi...  2016-11-04T16:36:09Z   \n",
       "1  Copyright © The Contributors. Sharing and remi...  2016-11-04T16:39:09Z   \n",
       "2  Copyright © The Contributors. Sharing and remi...  2010-09-24T19:02:22Z   \n",
       "3  Copyright © The Contributors. Sharing and remi...  2010-09-24T19:02:24Z   \n",
       "4  Copyright © The Contributors. Sharing and remi...  2010-09-24T19:02:25Z   \n",
       "\n",
       "                                         uri  \\\n",
       "0  https://pleiades.stoa.org/places/48210385   \n",
       "1  https://pleiades.stoa.org/places/48210386   \n",
       "2    https://pleiades.stoa.org/places/265876   \n",
       "3    https://pleiades.stoa.org/places/265877   \n",
       "4    https://pleiades.stoa.org/places/265878   \n",
       "\n",
       "                                            creators  @type  \\\n",
       "0  [{'username': 'jbecker', 'homepage': None, 'na...  Place   \n",
       "1  [{'username': 'jbecker', 'homepage': None, 'na...  Place   \n",
       "2         [{'username': None, 'name': 'P.O. Spann'}]  Place   \n",
       "3         [{'username': None, 'name': 'P.O. Spann'}]  Place   \n",
       "4         [{'username': None, 'name': 'P.O. Spann'}]  Place   \n",
       "\n",
       "                                             history  \n",
       "0  [{'comment': 'added reference', 'modifiedBy': ...  \n",
       "1  [{'comment': 'added reference', 'modifiedBy': ...  \n",
       "2  [{'comment': 'Baseline created', 'modifiedBy':...  \n",
       "3  [{'comment': 'title, summary', 'modifiedBy': '...  \n",
       "4  [{'comment': 'Location updates and tags from J...  \n",
       "\n",
       "[5 rows x 25 columns]"
      ]
     },
     "execution_count": 13,
     "metadata": {},
     "output_type": "execute_result"
    }
   ],
   "source": [
    "df.head()"
   ]
  },
  {
   "cell_type": "code",
   "execution_count": 17,
   "metadata": {},
   "outputs": [
    {
     "data": {
      "text/plain": [
       "[{'end': None,\n",
       "  'description': '',\n",
       "  'contributors': [],\n",
       "  'created': '2016-11-04T16:36:13Z',\n",
       "  'associationCertainty': 'certain',\n",
       "  'title': 'Alba Fucens',\n",
       "  'start': None,\n",
       "  'provenance': 'Pleiades',\n",
       "  'uri': 'https://pleiades.stoa.org/places/48210385/3733956186',\n",
       "  'connectionType': ['at'],\n",
       "  'id': '3733956186',\n",
       "  'attestations': [],\n",
       "  'history': [],\n",
       "  'connectsTo': 'https://pleiades.stoa.org/places/413005',\n",
       "  'details': '',\n",
       "  'references': [],\n",
       "  'review_state': 'published',\n",
       "  'creators': [{'username': 'thomase',\n",
       "    'homepage': None,\n",
       "    'name': 'Tom Elliott',\n",
       "    'uri': 'https://pleiades.stoa.org/author/thomase'}],\n",
       "  '@type': 'Connection',\n",
       "  'connectionTypeURI': \"https://pleiades.stoa.org/vocabularies/relationship-types/['at']\"}]"
      ]
     },
     "execution_count": 17,
     "metadata": {},
     "output_type": "execute_result"
    }
   ],
   "source": [
    "df['connections'][0]"
   ]
  },
  {
   "cell_type": "code",
   "execution_count": 2,
   "metadata": {},
   "outputs": [],
   "source": [
    "spark = SparkSession.builder.getOrCreate()"
   ]
  },
  {
   "cell_type": "code",
   "execution_count": 17,
   "metadata": {},
   "outputs": [],
   "source": [
    "df = spark.read.json(\"./pleiades_jsonline\")"
   ]
  },
  {
   "cell_type": "code",
   "execution_count": 3,
   "metadata": {},
   "outputs": [
    {
     "ename": "NameError",
     "evalue": "name 'df' is not defined",
     "output_type": "error",
     "traceback": [
      "\u001b[1;31m---------------------------------------------------------------------------\u001b[0m",
      "\u001b[1;31mNameError\u001b[0m                                 Traceback (most recent call last)",
      "\u001b[1;32m<ipython-input-3-82e3d66f8de4>\u001b[0m in \u001b[0;36m<module>\u001b[1;34m\u001b[0m\n\u001b[1;32m----> 1\u001b[1;33m \u001b[0mdf\u001b[0m\u001b[1;33m.\u001b[0m\u001b[0mwrite\u001b[0m\u001b[1;33m.\u001b[0m\u001b[0mparquet\u001b[0m\u001b[1;33m(\u001b[0m\u001b[1;34m\"pleiades_places.parquet\"\u001b[0m\u001b[1;33m)\u001b[0m\u001b[1;33m\u001b[0m\u001b[1;33m\u001b[0m\u001b[0m\n\u001b[0m",
      "\u001b[1;31mNameError\u001b[0m: name 'df' is not defined"
     ]
    }
   ],
   "source": [
    "df.write.parquet(\"pleiades_places.parquet\")"
   ]
  },
  {
   "cell_type": "code",
   "execution_count": 12,
   "metadata": {},
   "outputs": [
    {
     "data": {
      "text/plain": [
       "37151"
      ]
     },
     "execution_count": 12,
     "metadata": {},
     "output_type": "execute_result"
    }
   ],
   "source": [
    "df = spark.read.parquet(\"./pleiades_places.parquet\")\n",
    "df.count()"
   ]
  },
  {
   "cell_type": "code",
   "execution_count": 14,
   "metadata": {},
   "outputs": [
    {
     "data": {
      "text/plain": [
       "<function __main__.getId(s)>"
      ]
     },
     "execution_count": 14,
     "metadata": {},
     "output_type": "execute_result"
    }
   ],
   "source": [
    "from pyspark.sql.functions import udf\n",
    "from pyspark.sql.types import StringType\n",
    "def getId(s):\n",
    "  return s[s.rfind(\"/\")+1:]\n",
    "spark.udf.register(\"getId\", getId)"
   ]
  },
  {
   "cell_type": "code",
   "execution_count": 15,
   "metadata": {},
   "outputs": [],
   "source": [
    "udfValueToCategory = udf(getId, StringType())"
   ]
  },
  {
   "cell_type": "code",
   "execution_count": 16,
   "metadata": {},
   "outputs": [],
   "source": [
    "df_with_id = df.withColumn(\"id\", udfValueToCategory(\"uri\"))"
   ]
  },
  {
   "cell_type": "code",
   "execution_count": 17,
   "metadata": {},
   "outputs": [],
   "source": [
    "df_dropped_cols = df_with_id.drop('provenance', 'review_state', 'rights', 'reprPoint','type', 'created')"
   ]
  },
  {
   "cell_type": "code",
   "execution_count": 18,
   "metadata": {},
   "outputs": [],
   "source": [
    "df_pandas = df_dropped_cols.toPandas()"
   ]
  },
  {
   "cell_type": "code",
   "execution_count": 19,
   "metadata": {},
   "outputs": [],
   "source": [
    "import networkx as nx"
   ]
  },
  {
   "cell_type": "code",
   "execution_count": 28,
   "metadata": {},
   "outputs": [
    {
     "data": {
      "text/plain": [
       "(37151, 19)"
      ]
     },
     "execution_count": 28,
     "metadata": {},
     "output_type": "execute_result"
    }
   ],
   "source": [
    "#>>> d = {0: {1: {'weight':1}}} # dict-of-dicts single edge (0,1)\n",
    "df_pandas_filtered = df_pandas[~df_pandas['description'].str.contains(\"withdrawn\")]\n",
    "df_pandas_filtered.shape"
   ]
  },
  {
   "cell_type": "code",
   "execution_count": null,
   "metadata": {},
   "outputs": [],
   "source": [
    "networkx_dict = {}\n",
    "for index, row in df.iterrows():\n",
    "    for con in row['connections']\n",
    "    networkx_dict[row['id']] = {}"
   ]
  },
  {
   "cell_type": "code",
   "execution_count": 38,
   "metadata": {},
   "outputs": [
    {
     "data": {
      "text/plain": [
       "'912977'"
      ]
     },
     "execution_count": 38,
     "metadata": {},
     "output_type": "execute_result"
    }
   ],
   "source": [
    "s[s.rfind(\"/\")+1:]"
   ]
  },
  {
   "cell_type": "code",
   "execution_count": null,
   "metadata": {},
   "outputs": [],
   "source": [
    "#This place resource has been withdrawn"
   ]
  }
 ],
 "metadata": {
  "kernelspec": {
   "display_name": "Python 3",
   "language": "python",
   "name": "python3"
  },
  "language_info": {
   "codemirror_mode": {
    "name": "ipython",
    "version": 3
   },
   "file_extension": ".py",
   "mimetype": "text/x-python",
   "name": "python",
   "nbconvert_exporter": "python",
   "pygments_lexer": "ipython3",
   "version": "3.7.4"
  }
 },
 "nbformat": 4,
 "nbformat_minor": 4
}
